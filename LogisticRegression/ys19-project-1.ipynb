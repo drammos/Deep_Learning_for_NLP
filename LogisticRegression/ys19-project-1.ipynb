{
 "cells": [
  {
   "cell_type": "code",
   "execution_count": 1,
   "id": "561824f0",
   "metadata": {
    "execution": {
     "iopub.execute_input": "2023-11-23T20:08:00.234420Z",
     "iopub.status.busy": "2023-11-23T20:08:00.234069Z",
     "iopub.status.idle": "2023-11-23T20:09:05.698257Z",
     "shell.execute_reply": "2023-11-23T20:09:05.696662Z"
    },
    "id": "Hf6LZPw0u6Lt",
    "papermill": {
     "duration": 65.474073,
     "end_time": "2023-11-23T20:09:05.700682",
     "exception": false,
     "start_time": "2023-11-23T20:08:00.226609",
     "status": "completed"
    },
    "tags": []
   },
   "outputs": [
    {
     "name": "stdout",
     "output_type": "stream",
     "text": [
      "Requirement already satisfied: spacy in /opt/conda/lib/python3.10/site-packages (3.6.1)\r\n",
      "Requirement already satisfied: spacy-legacy<3.1.0,>=3.0.11 in /opt/conda/lib/python3.10/site-packages (from spacy) (3.0.12)\r\n",
      "Requirement already satisfied: spacy-loggers<2.0.0,>=1.0.0 in /opt/conda/lib/python3.10/site-packages (from spacy) (1.0.4)\r\n",
      "Requirement already satisfied: murmurhash<1.1.0,>=0.28.0 in /opt/conda/lib/python3.10/site-packages (from spacy) (1.0.9)\r\n",
      "Requirement already satisfied: cymem<2.1.0,>=2.0.2 in /opt/conda/lib/python3.10/site-packages (from spacy) (2.0.7)\r\n",
      "Requirement already satisfied: preshed<3.1.0,>=3.0.2 in /opt/conda/lib/python3.10/site-packages (from spacy) (3.0.8)\r\n",
      "Requirement already satisfied: thinc<8.2.0,>=8.1.8 in /opt/conda/lib/python3.10/site-packages (from spacy) (8.1.12)\r\n",
      "Requirement already satisfied: wasabi<1.2.0,>=0.9.1 in /opt/conda/lib/python3.10/site-packages (from spacy) (1.1.2)\r\n",
      "Requirement already satisfied: srsly<3.0.0,>=2.4.3 in /opt/conda/lib/python3.10/site-packages (from spacy) (2.4.7)\r\n",
      "Requirement already satisfied: catalogue<2.1.0,>=2.0.6 in /opt/conda/lib/python3.10/site-packages (from spacy) (2.0.9)\r\n",
      "Requirement already satisfied: typer<0.10.0,>=0.3.0 in /opt/conda/lib/python3.10/site-packages (from spacy) (0.9.0)\r\n",
      "Requirement already satisfied: pathy>=0.10.0 in /opt/conda/lib/python3.10/site-packages (from spacy) (0.10.2)\r\n",
      "Requirement already satisfied: smart-open<7.0.0,>=5.2.1 in /opt/conda/lib/python3.10/site-packages (from spacy) (6.3.0)\r\n",
      "Requirement already satisfied: tqdm<5.0.0,>=4.38.0 in /opt/conda/lib/python3.10/site-packages (from spacy) (4.66.1)\r\n",
      "Requirement already satisfied: numpy>=1.15.0 in /opt/conda/lib/python3.10/site-packages (from spacy) (1.23.5)\r\n",
      "Requirement already satisfied: requests<3.0.0,>=2.13.0 in /opt/conda/lib/python3.10/site-packages (from spacy) (2.31.0)\r\n",
      "Requirement already satisfied: pydantic!=1.8,!=1.8.1,<3.0.0,>=1.7.4 in /opt/conda/lib/python3.10/site-packages (from spacy) (1.10.9)\r\n",
      "Requirement already satisfied: jinja2 in /opt/conda/lib/python3.10/site-packages (from spacy) (3.1.2)\r\n",
      "Requirement already satisfied: setuptools in /opt/conda/lib/python3.10/site-packages (from spacy) (68.0.0)\r\n",
      "Requirement already satisfied: packaging>=20.0 in /opt/conda/lib/python3.10/site-packages (from spacy) (21.3)\r\n",
      "Requirement already satisfied: langcodes<4.0.0,>=3.2.0 in /opt/conda/lib/python3.10/site-packages (from spacy) (3.3.0)\r\n",
      "Requirement already satisfied: pyparsing!=3.0.5,>=2.0.2 in /opt/conda/lib/python3.10/site-packages (from packaging>=20.0->spacy) (3.0.9)\r\n",
      "Requirement already satisfied: typing-extensions>=4.2.0 in /opt/conda/lib/python3.10/site-packages (from pydantic!=1.8,!=1.8.1,<3.0.0,>=1.7.4->spacy) (4.6.3)\r\n",
      "Requirement already satisfied: charset-normalizer<4,>=2 in /opt/conda/lib/python3.10/site-packages (from requests<3.0.0,>=2.13.0->spacy) (3.1.0)\r\n",
      "Requirement already satisfied: idna<4,>=2.5 in /opt/conda/lib/python3.10/site-packages (from requests<3.0.0,>=2.13.0->spacy) (3.4)\r\n",
      "Requirement already satisfied: urllib3<3,>=1.21.1 in /opt/conda/lib/python3.10/site-packages (from requests<3.0.0,>=2.13.0->spacy) (1.26.15)\r\n",
      "Requirement already satisfied: certifi>=2017.4.17 in /opt/conda/lib/python3.10/site-packages (from requests<3.0.0,>=2.13.0->spacy) (2023.7.22)\r\n",
      "Requirement already satisfied: blis<0.8.0,>=0.7.8 in /opt/conda/lib/python3.10/site-packages (from thinc<8.2.0,>=8.1.8->spacy) (0.7.10)\r\n",
      "Requirement already satisfied: confection<1.0.0,>=0.0.1 in /opt/conda/lib/python3.10/site-packages (from thinc<8.2.0,>=8.1.8->spacy) (0.1.1)\r\n",
      "Requirement already satisfied: click<9.0.0,>=7.1.1 in /opt/conda/lib/python3.10/site-packages (from typer<0.10.0,>=0.3.0->spacy) (8.1.7)\r\n",
      "Requirement already satisfied: MarkupSafe>=2.0 in /opt/conda/lib/python3.10/site-packages (from jinja2->spacy) (2.1.3)\r\n",
      "Collecting el-core-news-md==3.6.0\r\n",
      "  Downloading https://github.com/explosion/spacy-models/releases/download/el_core_news_md-3.6.0/el_core_news_md-3.6.0-py3-none-any.whl (42.9 MB)\r\n",
      "\u001b[2K     \u001b[90m━━━━━━━━━━━━━━━━━━━━━━━━━━━━━━━━━━━━━━━━\u001b[0m \u001b[32m42.9/42.9 MB\u001b[0m \u001b[31m33.1 MB/s\u001b[0m eta \u001b[36m0:00:00\u001b[0m\r\n",
      "\u001b[?25hRequirement already satisfied: spacy<3.7.0,>=3.6.0 in /opt/conda/lib/python3.10/site-packages (from el-core-news-md==3.6.0) (3.6.1)\r\n",
      "Requirement already satisfied: spacy-legacy<3.1.0,>=3.0.11 in /opt/conda/lib/python3.10/site-packages (from spacy<3.7.0,>=3.6.0->el-core-news-md==3.6.0) (3.0.12)\r\n",
      "Requirement already satisfied: spacy-loggers<2.0.0,>=1.0.0 in /opt/conda/lib/python3.10/site-packages (from spacy<3.7.0,>=3.6.0->el-core-news-md==3.6.0) (1.0.4)\r\n",
      "Requirement already satisfied: murmurhash<1.1.0,>=0.28.0 in /opt/conda/lib/python3.10/site-packages (from spacy<3.7.0,>=3.6.0->el-core-news-md==3.6.0) (1.0.9)\r\n",
      "Requirement already satisfied: cymem<2.1.0,>=2.0.2 in /opt/conda/lib/python3.10/site-packages (from spacy<3.7.0,>=3.6.0->el-core-news-md==3.6.0) (2.0.7)\r\n",
      "Requirement already satisfied: preshed<3.1.0,>=3.0.2 in /opt/conda/lib/python3.10/site-packages (from spacy<3.7.0,>=3.6.0->el-core-news-md==3.6.0) (3.0.8)\r\n",
      "Requirement already satisfied: thinc<8.2.0,>=8.1.8 in /opt/conda/lib/python3.10/site-packages (from spacy<3.7.0,>=3.6.0->el-core-news-md==3.6.0) (8.1.12)\r\n",
      "Requirement already satisfied: wasabi<1.2.0,>=0.9.1 in /opt/conda/lib/python3.10/site-packages (from spacy<3.7.0,>=3.6.0->el-core-news-md==3.6.0) (1.1.2)\r\n",
      "Requirement already satisfied: srsly<3.0.0,>=2.4.3 in /opt/conda/lib/python3.10/site-packages (from spacy<3.7.0,>=3.6.0->el-core-news-md==3.6.0) (2.4.7)\r\n",
      "Requirement already satisfied: catalogue<2.1.0,>=2.0.6 in /opt/conda/lib/python3.10/site-packages (from spacy<3.7.0,>=3.6.0->el-core-news-md==3.6.0) (2.0.9)\r\n",
      "Requirement already satisfied: typer<0.10.0,>=0.3.0 in /opt/conda/lib/python3.10/site-packages (from spacy<3.7.0,>=3.6.0->el-core-news-md==3.6.0) (0.9.0)\r\n",
      "Requirement already satisfied: pathy>=0.10.0 in /opt/conda/lib/python3.10/site-packages (from spacy<3.7.0,>=3.6.0->el-core-news-md==3.6.0) (0.10.2)\r\n",
      "Requirement already satisfied: smart-open<7.0.0,>=5.2.1 in /opt/conda/lib/python3.10/site-packages (from spacy<3.7.0,>=3.6.0->el-core-news-md==3.6.0) (6.3.0)\r\n",
      "Requirement already satisfied: tqdm<5.0.0,>=4.38.0 in /opt/conda/lib/python3.10/site-packages (from spacy<3.7.0,>=3.6.0->el-core-news-md==3.6.0) (4.66.1)\r\n",
      "Requirement already satisfied: numpy>=1.15.0 in /opt/conda/lib/python3.10/site-packages (from spacy<3.7.0,>=3.6.0->el-core-news-md==3.6.0) (1.23.5)\r\n",
      "Requirement already satisfied: requests<3.0.0,>=2.13.0 in /opt/conda/lib/python3.10/site-packages (from spacy<3.7.0,>=3.6.0->el-core-news-md==3.6.0) (2.31.0)\r\n",
      "Requirement already satisfied: pydantic!=1.8,!=1.8.1,<3.0.0,>=1.7.4 in /opt/conda/lib/python3.10/site-packages (from spacy<3.7.0,>=3.6.0->el-core-news-md==3.6.0) (1.10.9)\r\n",
      "Requirement already satisfied: jinja2 in /opt/conda/lib/python3.10/site-packages (from spacy<3.7.0,>=3.6.0->el-core-news-md==3.6.0) (3.1.2)\r\n",
      "Requirement already satisfied: setuptools in /opt/conda/lib/python3.10/site-packages (from spacy<3.7.0,>=3.6.0->el-core-news-md==3.6.0) (68.0.0)\r\n",
      "Requirement already satisfied: packaging>=20.0 in /opt/conda/lib/python3.10/site-packages (from spacy<3.7.0,>=3.6.0->el-core-news-md==3.6.0) (21.3)\r\n",
      "Requirement already satisfied: langcodes<4.0.0,>=3.2.0 in /opt/conda/lib/python3.10/site-packages (from spacy<3.7.0,>=3.6.0->el-core-news-md==3.6.0) (3.3.0)\r\n",
      "Requirement already satisfied: pyparsing!=3.0.5,>=2.0.2 in /opt/conda/lib/python3.10/site-packages (from packaging>=20.0->spacy<3.7.0,>=3.6.0->el-core-news-md==3.6.0) (3.0.9)\r\n",
      "Requirement already satisfied: typing-extensions>=4.2.0 in /opt/conda/lib/python3.10/site-packages (from pydantic!=1.8,!=1.8.1,<3.0.0,>=1.7.4->spacy<3.7.0,>=3.6.0->el-core-news-md==3.6.0) (4.6.3)\r\n",
      "Requirement already satisfied: charset-normalizer<4,>=2 in /opt/conda/lib/python3.10/site-packages (from requests<3.0.0,>=2.13.0->spacy<3.7.0,>=3.6.0->el-core-news-md==3.6.0) (3.1.0)\r\n",
      "Requirement already satisfied: idna<4,>=2.5 in /opt/conda/lib/python3.10/site-packages (from requests<3.0.0,>=2.13.0->spacy<3.7.0,>=3.6.0->el-core-news-md==3.6.0) (3.4)\r\n",
      "Requirement already satisfied: urllib3<3,>=1.21.1 in /opt/conda/lib/python3.10/site-packages (from requests<3.0.0,>=2.13.0->spacy<3.7.0,>=3.6.0->el-core-news-md==3.6.0) (1.26.15)\r\n",
      "Requirement already satisfied: certifi>=2017.4.17 in /opt/conda/lib/python3.10/site-packages (from requests<3.0.0,>=2.13.0->spacy<3.7.0,>=3.6.0->el-core-news-md==3.6.0) (2023.7.22)\r\n",
      "Requirement already satisfied: blis<0.8.0,>=0.7.8 in /opt/conda/lib/python3.10/site-packages (from thinc<8.2.0,>=8.1.8->spacy<3.7.0,>=3.6.0->el-core-news-md==3.6.0) (0.7.10)\r\n",
      "Requirement already satisfied: confection<1.0.0,>=0.0.1 in /opt/conda/lib/python3.10/site-packages (from thinc<8.2.0,>=8.1.8->spacy<3.7.0,>=3.6.0->el-core-news-md==3.6.0) (0.1.1)\r\n",
      "Requirement already satisfied: click<9.0.0,>=7.1.1 in /opt/conda/lib/python3.10/site-packages (from typer<0.10.0,>=0.3.0->spacy<3.7.0,>=3.6.0->el-core-news-md==3.6.0) (8.1.7)\r\n",
      "Requirement already satisfied: MarkupSafe>=2.0 in /opt/conda/lib/python3.10/site-packages (from jinja2->spacy<3.7.0,>=3.6.0->el-core-news-md==3.6.0) (2.1.3)\r\n",
      "Installing collected packages: el-core-news-md\r\n",
      "Successfully installed el-core-news-md-3.6.0\r\n",
      "\u001b[38;5;2m✔ Download and installation successful\u001b[0m\r\n",
      "You can now load the package via spacy.load('el_core_news_md')\r\n",
      "Requirement already satisfied: unidecode in /opt/conda/lib/python3.10/site-packages (1.3.6)\r\n",
      "Requirement already satisfied: optuna in /opt/conda/lib/python3.10/site-packages (3.3.0)\r\n",
      "Requirement already satisfied: alembic>=1.5.0 in /opt/conda/lib/python3.10/site-packages (from optuna) (1.12.0)\r\n",
      "Requirement already satisfied: cmaes>=0.10.0 in /opt/conda/lib/python3.10/site-packages (from optuna) (0.10.0)\r\n",
      "Requirement already satisfied: colorlog in /opt/conda/lib/python3.10/site-packages (from optuna) (6.7.0)\r\n",
      "Requirement already satisfied: numpy in /opt/conda/lib/python3.10/site-packages (from optuna) (1.23.5)\r\n",
      "Requirement already satisfied: packaging>=20.0 in /opt/conda/lib/python3.10/site-packages (from optuna) (21.3)\r\n",
      "Requirement already satisfied: sqlalchemy>=1.3.0 in /opt/conda/lib/python3.10/site-packages (from optuna) (2.0.17)\r\n",
      "Requirement already satisfied: tqdm in /opt/conda/lib/python3.10/site-packages (from optuna) (4.66.1)\r\n",
      "Requirement already satisfied: PyYAML in /opt/conda/lib/python3.10/site-packages (from optuna) (6.0)\r\n",
      "Requirement already satisfied: Mako in /opt/conda/lib/python3.10/site-packages (from alembic>=1.5.0->optuna) (1.2.4)\r\n",
      "Requirement already satisfied: typing-extensions>=4 in /opt/conda/lib/python3.10/site-packages (from alembic>=1.5.0->optuna) (4.6.3)\r\n",
      "Requirement already satisfied: pyparsing!=3.0.5,>=2.0.2 in /opt/conda/lib/python3.10/site-packages (from packaging>=20.0->optuna) (3.0.9)\r\n",
      "Requirement already satisfied: greenlet!=0.4.17 in /opt/conda/lib/python3.10/site-packages (from sqlalchemy>=1.3.0->optuna) (2.0.2)\r\n",
      "Requirement already satisfied: MarkupSafe>=0.9.2 in /opt/conda/lib/python3.10/site-packages (from Mako->alembic>=1.5.0->optuna) (2.1.3)\r\n",
      "Requirement already satisfied: seaborn in /opt/conda/lib/python3.10/site-packages (0.12.2)\r\n",
      "Requirement already satisfied: numpy!=1.24.0,>=1.17 in /opt/conda/lib/python3.10/site-packages (from seaborn) (1.23.5)\r\n",
      "Requirement already satisfied: pandas>=0.25 in /opt/conda/lib/python3.10/site-packages (from seaborn) (2.0.3)\r\n",
      "Requirement already satisfied: matplotlib!=3.6.1,>=3.1 in /opt/conda/lib/python3.10/site-packages (from seaborn) (3.7.2)\r\n",
      "Requirement already satisfied: contourpy>=1.0.1 in /opt/conda/lib/python3.10/site-packages (from matplotlib!=3.6.1,>=3.1->seaborn) (1.1.0)\r\n",
      "Requirement already satisfied: cycler>=0.10 in /opt/conda/lib/python3.10/site-packages (from matplotlib!=3.6.1,>=3.1->seaborn) (0.11.0)\r\n",
      "Requirement already satisfied: fonttools>=4.22.0 in /opt/conda/lib/python3.10/site-packages (from matplotlib!=3.6.1,>=3.1->seaborn) (4.40.0)\r\n",
      "Requirement already satisfied: kiwisolver>=1.0.1 in /opt/conda/lib/python3.10/site-packages (from matplotlib!=3.6.1,>=3.1->seaborn) (1.4.4)\r\n",
      "Requirement already satisfied: packaging>=20.0 in /opt/conda/lib/python3.10/site-packages (from matplotlib!=3.6.1,>=3.1->seaborn) (21.3)\r\n",
      "Requirement already satisfied: pillow>=6.2.0 in /opt/conda/lib/python3.10/site-packages (from matplotlib!=3.6.1,>=3.1->seaborn) (9.5.0)\r\n",
      "Requirement already satisfied: pyparsing<3.1,>=2.3.1 in /opt/conda/lib/python3.10/site-packages (from matplotlib!=3.6.1,>=3.1->seaborn) (3.0.9)\r\n",
      "Requirement already satisfied: python-dateutil>=2.7 in /opt/conda/lib/python3.10/site-packages (from matplotlib!=3.6.1,>=3.1->seaborn) (2.8.2)\r\n",
      "Requirement already satisfied: pytz>=2020.1 in /opt/conda/lib/python3.10/site-packages (from pandas>=0.25->seaborn) (2023.3)\r\n",
      "Requirement already satisfied: tzdata>=2022.1 in /opt/conda/lib/python3.10/site-packages (from pandas>=0.25->seaborn) (2023.3)\r\n",
      "Requirement already satisfied: six>=1.5 in /opt/conda/lib/python3.10/site-packages (from python-dateutil>=2.7->matplotlib!=3.6.1,>=3.1->seaborn) (1.16.0)\r\n"
     ]
    }
   ],
   "source": [
    "!pip install spacy\n",
    "!python -m spacy download el_core_news_md\n",
    "!pip install unidecode\n",
    "!pip install optuna\n",
    "!pip install seaborn"
   ]
  },
  {
   "cell_type": "markdown",
   "id": "130ca96b",
   "metadata": {
    "id": "QN-bblDonuTu",
    "papermill": {
     "duration": 0.00713,
     "end_time": "2023-11-23T20:09:05.715627",
     "exception": false,
     "start_time": "2023-11-23T20:09:05.708497",
     "status": "completed"
    },
    "tags": []
   },
   "source": [
    "IMPORTS"
   ]
  },
  {
   "cell_type": "code",
   "execution_count": 2,
   "id": "4064d416",
   "metadata": {
    "execution": {
     "iopub.execute_input": "2023-11-23T20:09:05.732660Z",
     "iopub.status.busy": "2023-11-23T20:09:05.732285Z",
     "iopub.status.idle": "2023-11-23T20:09:13.462411Z",
     "shell.execute_reply": "2023-11-23T20:09:13.461415Z"
    },
    "id": "WnSfGqg-kx6N",
    "papermill": {
     "duration": 7.742315,
     "end_time": "2023-11-23T20:09:13.465188",
     "exception": false,
     "start_time": "2023-11-23T20:09:05.722873",
     "status": "completed"
    },
    "tags": []
   },
   "outputs": [],
   "source": [
    "############################################ IMPORTS ################################################\n",
    "import numpy as np # linear algebra\n",
    "import pandas as pd # READ CSV\n",
    "import spacy\n",
    "import unicodedata as ud\n",
    "\n",
    "# utilities\n",
    "import re\n",
    "# plotting\n",
    "\n",
    "from wordcloud import WordCloud\n",
    "import matplotlib.pyplot as plt\n",
    "# nltk\n",
    "from nltk.stem import WordNetLemmatizer\n",
    "# sklearn\n",
    "from sklearn.svm import LinearSVC\n",
    "from sklearn.naive_bayes import BernoulliNB\n",
    "from sklearn.linear_model import LogisticRegression\n",
    "from sklearn.model_selection import train_test_split\n",
    "from sklearn.feature_extraction.text import TfidfVectorizer\n",
    "from sklearn.metrics import confusion_matrix, classification_report\n",
    "import os\n",
    "from spacy.lang.el import stop_words\n",
    "from sklearn.feature_extraction.text import CountVectorizer\n",
    "import string\n",
    "import nltk\n",
    "from nltk.corpus import stopwords\n",
    "from nltk.tokenize import word_tokenize\n",
    "\n",
    "import optuna\n",
    "from sklearn.metrics import accuracy_score, classification_report\n",
    "from sklearn.metrics import f1_score\n",
    "from sklearn.preprocessing import label_binarize\n",
    "from sklearn.datasets import make_classification\n",
    "from sklearn.metrics import roc_curve, auc"
   ]
  },
  {
   "cell_type": "markdown",
   "id": "fd6c1d94",
   "metadata": {
    "id": "Q_rsooepnz3u",
    "papermill": {
     "duration": 0.008489,
     "end_time": "2023-11-23T20:09:13.482199",
     "exception": false,
     "start_time": "2023-11-23T20:09:13.473710",
     "status": "completed"
    },
    "tags": []
   },
   "source": [
    "FUNCTIONS"
   ]
  },
  {
   "cell_type": "code",
   "execution_count": 3,
   "id": "f2200f99",
   "metadata": {
    "execution": {
     "iopub.execute_input": "2023-11-23T20:09:13.501214Z",
     "iopub.status.busy": "2023-11-23T20:09:13.500580Z",
     "iopub.status.idle": "2023-11-23T20:09:13.512036Z",
     "shell.execute_reply": "2023-11-23T20:09:13.511406Z"
    },
    "id": "hbxZUhCSkD2D",
    "papermill": {
     "duration": 0.024254,
     "end_time": "2023-11-23T20:09:13.514352",
     "exception": false,
     "start_time": "2023-11-23T20:09:13.490098",
     "status": "completed"
    },
    "tags": []
   },
   "outputs": [],
   "source": [
    "############################################ FUNCTION ################################################\n",
    "def remove_hashtags(text):\n",
    "    result = re.sub(r'#\\S+', '', text)\n",
    "    return ' '.join(result.split())\n",
    "\n",
    "def remove_accents(text):\n",
    "    tras = {ord('\\N{COMBINING ACUTE ACCENT}'):None}\n",
    "    ud.normalize('NFD', text).upper().translate(tras)\n",
    "    result = ud.normalize('NFD', text).translate(tras)\n",
    "    return ' '.join(result.split())\n",
    "\n",
    "def remove_numbers(text):\n",
    "    result = re.sub(r'\\d+', '', text)\n",
    "    return ' '.join(result.split())\n",
    "\n",
    "def remove_more_characters(text):\n",
    "    result = re.sub(r'(.)\\1+', r'\\1', text)\n",
    "    return ' '.join(result.split())\n",
    "\n",
    "def remove_at_words(text):\n",
    "    result = re.sub(r'@\\S+', '', text)\n",
    "    return ' '.join(result.split())\n",
    "\n",
    "def cleaning_punctuations(text):\n",
    "    translator = str.maketrans(punctuations_list, ' ' * len(punctuations_list))\n",
    "    result = text.translate(translator)\n",
    "    return' '.join(result.split())\n",
    "\n",
    "def remove_url(text):\n",
    "    return re.sub('((www.[^s]+)|(https?://[^s]+))',' ', text)\n",
    "\n",
    "def create_tokenizer(text):\n",
    "    return word_tokenize(text)\n",
    "\n",
    "\n",
    "def remove_stopwords(text):\n",
    "    words = text.split()\n",
    "    not_stopwords = [word for word in words if word.lower() not in stop_words_without_accents]\n",
    "    result = ' '.join(not_stopwords)\n",
    "    return ' '.join(result.split())\n",
    "\n",
    "def remove_stopwords_without_accents(text):\n",
    "    words = text.split()\n",
    "    not_stopwords = [word for word in words if word.lower() not in stop_words]\n",
    "    result = ' '.join(not_stopwords)\n",
    "    return ' '.join(result.split())\n",
    "\n",
    "def remove_english_stopwords(text):\n",
    "    words = text.split()\n",
    "    not_stopwords = [word for word in words if word.lower() not in stop_words]\n",
    "    result = ' '.join(not_stopwords)\n",
    "    return ' '.join(result.split())\n",
    "\n",
    "def remove_one(text):\n",
    "    words = text.split()\n",
    "    filtered_words = [word for word in words if len(word) != 1]\n",
    "    return ' '.join(filtered_words)"
   ]
  },
  {
   "cell_type": "code",
   "execution_count": 4,
   "id": "5d913cd4",
   "metadata": {
    "execution": {
     "iopub.execute_input": "2023-11-23T20:09:13.532018Z",
     "iopub.status.busy": "2023-11-23T20:09:13.531579Z",
     "iopub.status.idle": "2023-11-23T20:09:15.366286Z",
     "shell.execute_reply": "2023-11-23T20:09:15.365008Z"
    },
    "id": "mdrIZF4r4kjW",
    "papermill": {
     "duration": 1.845797,
     "end_time": "2023-11-23T20:09:15.368556",
     "exception": false,
     "start_time": "2023-11-23T20:09:13.522759",
     "status": "completed"
    },
    "tags": []
   },
   "outputs": [
    {
     "name": "stdout",
     "output_type": "stream",
     "text": [
      "[nltk_data] Downloading package punkt to /usr/share/nltk_data...\n",
      "[nltk_data]   Package punkt is already up-to-date!\n",
      "[nltk_data] Downloading package stopwords to /usr/share/nltk_data...\n",
      "[nltk_data]   Package stopwords is already up-to-date!\n"
     ]
    }
   ],
   "source": [
    "nltk.download('punkt')\n",
    "english_punctuations = string.punctuation + '«»'\n",
    "punctuations_list = english_punctuations\n",
    "nlp = spacy.load(\"el_core_news_md\")\n",
    "stop_words = nlp.Defaults.stop_words\n",
    "nltk.download('stopwords')\n",
    "english_stop_words = set(stopwords.words('english'))\n",
    "stop_words_without_accents = create_tokenizer(remove_accents(' '.join(stop_words)))"
   ]
  },
  {
   "cell_type": "markdown",
   "id": "00d61ce1",
   "metadata": {
    "id": "qdOSXv_ln2UI",
    "papermill": {
     "duration": 0.007336,
     "end_time": "2023-11-23T20:09:15.383783",
     "exception": false,
     "start_time": "2023-11-23T20:09:15.376447",
     "status": "completed"
    },
    "tags": []
   },
   "source": [
    "**spaCy** functions"
   ]
  },
  {
   "cell_type": "code",
   "execution_count": 5,
   "id": "156a3ec8",
   "metadata": {
    "execution": {
     "iopub.execute_input": "2023-11-23T20:09:15.400454Z",
     "iopub.status.busy": "2023-11-23T20:09:15.400091Z",
     "iopub.status.idle": "2023-11-23T20:09:15.410108Z",
     "shell.execute_reply": "2023-11-23T20:09:15.408497Z"
    },
    "id": "u94JhnBnlcIF",
    "papermill": {
     "duration": 0.020529,
     "end_time": "2023-11-23T20:09:15.411867",
     "exception": false,
     "start_time": "2023-11-23T20:09:15.391338",
     "status": "completed"
    },
    "tags": []
   },
   "outputs": [],
   "source": [
    "############################################ FUNCTION using SPACY ################################################\n",
    "\n",
    "def remove_url_spacy(text):\n",
    "  document = nlp(text)\n",
    "  not_url = [token.text for token in document if not token.like_url]\n",
    "  text = \" \".join(not_url)\n",
    "  return text\n",
    "\n",
    "def remove_at_words_spacy(text):\n",
    "  document = nlp(text)\n",
    "  not_at = [token.text for token in document if (not token.text.startswith('@'))]\n",
    "  text = \" \".join(not_at)\n",
    "  return text\n",
    "\n",
    "def remove_puncuation(text):\n",
    "  document = nlp(text)\n",
    "  not_punctuation = [token.text for token in document if not token.is_punct and not token.is_space]\n",
    "  text = \" \".join(not_punctuation)\n",
    "  return text\n",
    "\n",
    "def remove_stopwords_spacy(text):\n",
    "  document = nlp(text)\n",
    "  not_stopwords = [token.text for token in document if token.text.lower() not in stop_words]\n",
    "  text = \" \".join(not_stopwords)\n",
    "  return text\n",
    "\n",
    "def create_tokenizer_spacy(text):\n",
    "  document = nlp(text)\n",
    "  tokens = [token.text for token in document]\n",
    "  return tokens\n",
    "\n",
    "def remove_lemma(text):\n",
    "  doc = nlp(text)\n",
    "  the_lemma = \" \".join([token.lemma_ for token in doc])\n",
    "  text = \" \".join(the_lemma)\n",
    "  return text"
   ]
  },
  {
   "cell_type": "markdown",
   "id": "3d0bd473",
   "metadata": {
    "id": "y90vHeJSZRws",
    "papermill": {
     "duration": 0.007384,
     "end_time": "2023-11-23T20:09:15.426808",
     "exception": false,
     "start_time": "2023-11-23T20:09:15.419424",
     "status": "completed"
    },
    "tags": []
   },
   "source": [
    "**PRE**-**PROCESS**"
   ]
  },
  {
   "cell_type": "code",
   "execution_count": 6,
   "id": "866c991f",
   "metadata": {
    "execution": {
     "iopub.execute_input": "2023-11-23T20:09:15.443942Z",
     "iopub.status.busy": "2023-11-23T20:09:15.443006Z",
     "iopub.status.idle": "2023-11-23T20:09:15.454738Z",
     "shell.execute_reply": "2023-11-23T20:09:15.453168Z"
    },
    "id": "niCkvzz3kN0y",
    "papermill": {
     "duration": 0.022205,
     "end_time": "2023-11-23T20:09:15.456455",
     "exception": false,
     "start_time": "2023-11-23T20:09:15.434250",
     "status": "completed"
    },
    "tags": []
   },
   "outputs": [],
   "source": [
    "def create_model(file_path, file):\n",
    "  dataset = pd.read_csv(file_path)\n",
    "\n",
    "  dataset. shape\n",
    "  dataset.dtypes\n",
    "  np.sum(dataset.isnull().any(axis=1))\n",
    "  dataset['New_ID'].unique()\n",
    "  dataset['New_ID'].nunique()\n",
    "\n",
    "  dataset['Text'] = dataset['Text'].str.lower()\n",
    "  dataset['Text'] = dataset['Text'].apply(remove_hashtags)\n",
    "  dataset['Text'] = dataset['Text'].apply(remove_url)\n",
    "  dataset['Text'] = dataset['Text'].apply(remove_numbers)\n",
    "  dataset['Text'] = dataset['Text'].apply(remove_stopwords)\n",
    "  dataset['Text'] = dataset['Text'].apply(remove_english_stopwords)\n",
    "  dataset['Text'] = dataset['Text'].apply(remove_accents)\n",
    "  dataset['Text'] = dataset['Text'].apply(remove_stopwords_without_accents)\n",
    "  dataset['Text'] = dataset['Text'].apply(remove_at_words)\n",
    "  dataset['Text'] = dataset['Text'].apply(cleaning_punctuations)\n",
    "  dataset['Text'] = dataset['Text'].apply(create_tokenizer)\n",
    "\n",
    "  if 'train' in file:\n",
    "    dataset['Sentiment'] = dataset['Sentiment'].replace({'POSITIVE': 2, 'NEGATIVE': 0, 'NEUTRAL': 1})\n",
    "    path = 'train_set_result.csv'\n",
    "  elif 'valid' in file:\n",
    "    dataset['Sentiment'] = dataset['Sentiment'].replace({'POSITIVE': 2, 'NEGATIVE': 0, 'NEUTRAL': 1})\n",
    "    path = 'valid_set_result.csv'\n",
    "  else:\n",
    "    path = 'test_set_result.csv'\n",
    "    \n",
    "  return dataset"
   ]
  },
  {
   "cell_type": "code",
   "execution_count": 7,
   "id": "ddb44891",
   "metadata": {
    "execution": {
     "iopub.execute_input": "2023-11-23T20:09:15.475810Z",
     "iopub.status.busy": "2023-11-23T20:09:15.475151Z",
     "iopub.status.idle": "2023-11-23T20:09:28.853120Z",
     "shell.execute_reply": "2023-11-23T20:09:28.852220Z"
    },
    "id": "rmbRRN_rZ1Wy",
    "papermill": {
     "duration": 13.389302,
     "end_time": "2023-11-23T20:09:28.855519",
     "exception": false,
     "start_time": "2023-11-23T20:09:15.466217",
     "status": "completed"
    },
    "tags": []
   },
   "outputs": [],
   "source": [
    "train_dataset = create_model('/kaggle/input/ys19-2023-assignment-1/train_set.csv', 'train')\n",
    "valid_dataset = create_model('/kaggle/input/ys19-2023-assignment-1/valid_set.csv', 'valid')\n",
    "\n",
    "X_train = train_dataset['Text'].astype(str).tolist()\n",
    "y_train = train_dataset['Sentiment']\n",
    "\n",
    "X_validation = valid_dataset['Text'].astype(str).tolist()\n",
    "y_validation = valid_dataset['Sentiment']"
   ]
  },
  {
   "cell_type": "markdown",
   "id": "93e2bca0",
   "metadata": {
    "id": "l47iKKd3Zdcd",
    "papermill": {
     "duration": 0.007215,
     "end_time": "2023-11-23T20:09:28.871273",
     "exception": false,
     "start_time": "2023-11-23T20:09:28.864058",
     "status": "completed"
    },
    "tags": []
   },
   "source": [
    "**Vectorizer**"
   ]
  },
  {
   "cell_type": "code",
   "execution_count": 8,
   "id": "c33b0c80",
   "metadata": {
    "execution": {
     "iopub.execute_input": "2023-11-23T20:09:28.889046Z",
     "iopub.status.busy": "2023-11-23T20:09:28.888686Z",
     "iopub.status.idle": "2023-11-23T20:09:29.550071Z",
     "shell.execute_reply": "2023-11-23T20:09:29.549096Z"
    },
    "id": "-1EqbpK3Zue5",
    "papermill": {
     "duration": 0.672492,
     "end_time": "2023-11-23T20:09:29.552203",
     "exception": false,
     "start_time": "2023-11-23T20:09:28.879711",
     "status": "completed"
    },
    "tags": []
   },
   "outputs": [],
   "source": [
    "count_vec = CountVectorizer(max_features=5000)\n",
    "X_train_count = count_vec.fit_transform(X_train)\n",
    "X_validation_count = count_vec.transform(X_validation)"
   ]
  },
  {
   "cell_type": "markdown",
   "id": "a71ff142",
   "metadata": {
    "id": "SldqBtn2Rpu9",
    "papermill": {
     "duration": 0.007252,
     "end_time": "2023-11-23T20:09:29.567539",
     "exception": false,
     "start_time": "2023-11-23T20:09:29.560287",
     "status": "completed"
    },
    "tags": []
   },
   "source": [
    "**LOGISTIC REGRESSION**"
   ]
  },
  {
   "cell_type": "code",
   "execution_count": 9,
   "id": "2440932b",
   "metadata": {
    "execution": {
     "iopub.execute_input": "2023-11-23T20:09:29.585777Z",
     "iopub.status.busy": "2023-11-23T20:09:29.585402Z",
     "iopub.status.idle": "2023-11-23T20:09:35.384715Z",
     "shell.execute_reply": "2023-11-23T20:09:35.383409Z"
    },
    "id": "JSxw-NbEsOOC",
    "papermill": {
     "duration": 5.811507,
     "end_time": "2023-11-23T20:09:35.386625",
     "exception": false,
     "start_time": "2023-11-23T20:09:29.575118",
     "status": "completed"
    },
    "tags": []
   },
   "outputs": [
    {
     "name": "stdout",
     "output_type": "stream",
     "text": [
      "Accuracy valid:  0.3862767584097859\n",
      "Validation class:\n",
      "               precision    recall  f1-score   support\n",
      "\n",
      "           0       0.38      0.38      0.38      1744\n",
      "           1       0.38      0.42      0.40      1744\n",
      "           2       0.40      0.36      0.38      1744\n",
      "\n",
      "    accuracy                           0.39      5232\n",
      "   macro avg       0.39      0.39      0.39      5232\n",
      "weighted avg       0.39      0.39      0.39      5232\n",
      "\n"
     ]
    }
   ],
   "source": [
    "log_model = LogisticRegression(max_iter = 2000)\n",
    "log_model.fit(X_train_count, y_train)\n",
    "y_validation_pred = log_model.predict(X_validation_count)\n",
    "\n",
    "print(\"Accuracy valid: \", accuracy_score(y_validation, y_validation_pred))\n",
    "print(\"Validation class:\\n\", classification_report(y_validation, y_validation_pred))"
   ]
  },
  {
   "cell_type": "markdown",
   "id": "bec02c6e",
   "metadata": {
    "papermill": {
     "duration": 0.033678,
     "end_time": "2023-11-23T20:09:35.430463",
     "exception": false,
     "start_time": "2023-11-23T20:09:35.396785",
     "status": "completed"
    },
    "tags": []
   },
   "source": [
    "**Predict the test_set.csv and create sample_submission.csv**"
   ]
  },
  {
   "cell_type": "code",
   "execution_count": 10,
   "id": "5fc379f0",
   "metadata": {
    "execution": {
     "iopub.execute_input": "2023-11-23T20:09:35.466698Z",
     "iopub.status.busy": "2023-11-23T20:09:35.466357Z",
     "iopub.status.idle": "2023-11-23T20:09:42.897590Z",
     "shell.execute_reply": "2023-11-23T20:09:42.896785Z"
    },
    "id": "tWIOYJzhT-H8",
    "papermill": {
     "duration": 7.451674,
     "end_time": "2023-11-23T20:09:42.900292",
     "exception": false,
     "start_time": "2023-11-23T20:09:35.448618",
     "status": "completed"
    },
    "tags": []
   },
   "outputs": [],
   "source": [
    "dataset_test = create_model('/kaggle/input/ys19-2023-assignment-1/test_set.csv', 'test')\n",
    "\n",
    "X_test = dataset_test['Text'].astype(str).tolist()\n",
    "X_test_count = count_vec.transform(X_test)\n",
    "\n",
    "log_model = LogisticRegression(max_iter = 2000)\n",
    "log_model.fit(X_train_count, y_train)\n",
    "y_validation_pred = log_model.predict(X_validation_count)\n",
    "y_test = log_model.predict(X_test_count)\n",
    "\n",
    "result_df = pd.DataFrame({'Id': dataset_test['New_ID'], 'Predicted': y_test})\n",
    "result_df['Predicted'] = result_df['Predicted'].replace({2: 'POSITIVE', 0: 'NEGATIVE', 1: 'NEUTRAL'})\n",
    "path = 'submission.csv'\n",
    "result_df.to_csv(path, index=False, encoding='utf-8')"
   ]
  },
  {
   "cell_type": "markdown",
   "id": "eed4bfce",
   "metadata": {
    "papermill": {
     "duration": 0.022058,
     "end_time": "2023-11-23T20:09:42.935039",
     "exception": false,
     "start_time": "2023-11-23T20:09:42.912981",
     "status": "completed"
    },
    "tags": []
   },
   "source": [
    "**Test**"
   ]
  },
  {
   "cell_type": "code",
   "execution_count": null,
   "id": "78f14640",
   "metadata": {
    "papermill": {
     "duration": 0.011808,
     "end_time": "2023-11-23T20:09:42.969324",
     "exception": false,
     "start_time": "2023-11-23T20:09:42.957516",
     "status": "completed"
    },
    "tags": []
   },
   "outputs": [],
   "source": []
  },
  {
   "cell_type": "markdown",
   "id": "e59ee950",
   "metadata": {
    "id": "lJYPRhVVZw1G",
    "papermill": {
     "duration": 0.007708,
     "end_time": "2023-11-23T20:09:42.985388",
     "exception": false,
     "start_time": "2023-11-23T20:09:42.977680",
     "status": "completed"
    },
    "tags": []
   },
   "source": [
    "**HYPERPARAMETER** **TUNING**"
   ]
  },
  {
   "cell_type": "code",
   "execution_count": 11,
   "id": "b756897e",
   "metadata": {
    "execution": {
     "iopub.execute_input": "2023-11-23T20:09:43.004322Z",
     "iopub.status.busy": "2023-11-23T20:09:43.002846Z",
     "iopub.status.idle": "2023-11-23T20:11:32.316237Z",
     "shell.execute_reply": "2023-11-23T20:11:32.315264Z"
    },
    "id": "58Ubgo5kOuUZ",
    "papermill": {
     "duration": 109.324939,
     "end_time": "2023-11-23T20:11:32.318319",
     "exception": false,
     "start_time": "2023-11-23T20:09:42.993380",
     "status": "completed"
    },
    "tags": []
   },
   "outputs": [
    {
     "name": "stderr",
     "output_type": "stream",
     "text": [
      "[I 2023-11-23 20:09:43,008] A new study created in memory with name: no-name-4e7926fb-f3b3-4c27-8501-0279e52a30fa\n",
      "/tmp/ipykernel_20/790936554.py:3: FutureWarning: suggest_uniform has been deprecated in v3.0.0. This feature will be removed in v6.0.0. See https://github.com/optuna/optuna/releases/tag/v3.0.0. Use suggest_float instead.\n",
      "  'tol': trial.suggest_uniform('tol', 1e-6, 1e-3),\n",
      "/tmp/ipykernel_20/790936554.py:4: FutureWarning: suggest_loguniform has been deprecated in v3.0.0. This feature will be removed in v6.0.0. See https://github.com/optuna/optuna/releases/tag/v3.0.0. Use suggest_float(..., log=True) instead.\n",
      "  'C': trial.suggest_loguniform(\"C\", 1e-2, 1),\n",
      "[I 2023-11-23 20:09:44,991] Trial 0 finished with value: 0.3941131498470948 and parameters: {'tol': 0.0007505221415041443, 'C': 0.012605976234656984}. Best is trial 0 with value: 0.3941131498470948.\n",
      "/tmp/ipykernel_20/790936554.py:3: FutureWarning: suggest_uniform has been deprecated in v3.0.0. This feature will be removed in v6.0.0. See https://github.com/optuna/optuna/releases/tag/v3.0.0. Use suggest_float instead.\n",
      "  'tol': trial.suggest_uniform('tol', 1e-6, 1e-3),\n",
      "/tmp/ipykernel_20/790936554.py:4: FutureWarning: suggest_loguniform has been deprecated in v3.0.0. This feature will be removed in v6.0.0. See https://github.com/optuna/optuna/releases/tag/v3.0.0. Use suggest_float(..., log=True) instead.\n",
      "  'C': trial.suggest_loguniform(\"C\", 1e-2, 1),\n",
      "[I 2023-11-23 20:09:47,202] Trial 1 finished with value: 0.39067278287461776 and parameters: {'tol': 0.000281123258047884, 'C': 0.16097136405773607}. Best is trial 0 with value: 0.3941131498470948.\n",
      "/tmp/ipykernel_20/790936554.py:3: FutureWarning: suggest_uniform has been deprecated in v3.0.0. This feature will be removed in v6.0.0. See https://github.com/optuna/optuna/releases/tag/v3.0.0. Use suggest_float instead.\n",
      "  'tol': trial.suggest_uniform('tol', 1e-6, 1e-3),\n",
      "/tmp/ipykernel_20/790936554.py:4: FutureWarning: suggest_loguniform has been deprecated in v3.0.0. This feature will be removed in v6.0.0. See https://github.com/optuna/optuna/releases/tag/v3.0.0. Use suggest_float(..., log=True) instead.\n",
      "  'C': trial.suggest_loguniform(\"C\", 1e-2, 1),\n",
      "[I 2023-11-23 20:09:50,276] Trial 2 finished with value: 0.38398318042813456 and parameters: {'tol': 5.419451487043856e-05, 'C': 0.6466200836338385}. Best is trial 0 with value: 0.3941131498470948.\n",
      "/tmp/ipykernel_20/790936554.py:3: FutureWarning: suggest_uniform has been deprecated in v3.0.0. This feature will be removed in v6.0.0. See https://github.com/optuna/optuna/releases/tag/v3.0.0. Use suggest_float instead.\n",
      "  'tol': trial.suggest_uniform('tol', 1e-6, 1e-3),\n",
      "/tmp/ipykernel_20/790936554.py:4: FutureWarning: suggest_loguniform has been deprecated in v3.0.0. This feature will be removed in v6.0.0. See https://github.com/optuna/optuna/releases/tag/v3.0.0. Use suggest_float(..., log=True) instead.\n",
      "  'C': trial.suggest_loguniform(\"C\", 1e-2, 1),\n",
      "[I 2023-11-23 20:09:51,960] Trial 3 finished with value: 0.39048165137614677 and parameters: {'tol': 0.0008070642038094818, 'C': 0.027956890174335256}. Best is trial 0 with value: 0.3941131498470948.\n",
      "/tmp/ipykernel_20/790936554.py:3: FutureWarning: suggest_uniform has been deprecated in v3.0.0. This feature will be removed in v6.0.0. See https://github.com/optuna/optuna/releases/tag/v3.0.0. Use suggest_float instead.\n",
      "  'tol': trial.suggest_uniform('tol', 1e-6, 1e-3),\n",
      "/tmp/ipykernel_20/790936554.py:4: FutureWarning: suggest_loguniform has been deprecated in v3.0.0. This feature will be removed in v6.0.0. See https://github.com/optuna/optuna/releases/tag/v3.0.0. Use suggest_float(..., log=True) instead.\n",
      "  'C': trial.suggest_loguniform(\"C\", 1e-2, 1),\n",
      "[I 2023-11-23 20:09:55,539] Trial 4 finished with value: 0.38398318042813456 and parameters: {'tol': 0.0005985452174488505, 'C': 0.7762041272938063}. Best is trial 0 with value: 0.3941131498470948.\n",
      "/tmp/ipykernel_20/790936554.py:3: FutureWarning: suggest_uniform has been deprecated in v3.0.0. This feature will be removed in v6.0.0. See https://github.com/optuna/optuna/releases/tag/v3.0.0. Use suggest_float instead.\n",
      "  'tol': trial.suggest_uniform('tol', 1e-6, 1e-3),\n",
      "/tmp/ipykernel_20/790936554.py:4: FutureWarning: suggest_loguniform has been deprecated in v3.0.0. This feature will be removed in v6.0.0. See https://github.com/optuna/optuna/releases/tag/v3.0.0. Use suggest_float(..., log=True) instead.\n",
      "  'C': trial.suggest_loguniform(\"C\", 1e-2, 1),\n",
      "[I 2023-11-23 20:09:57,580] Trial 5 finished with value: 0.3948776758409786 and parameters: {'tol': 0.0005196127560777807, 'C': 0.013994146172047365}. Best is trial 5 with value: 0.3948776758409786.\n",
      "/tmp/ipykernel_20/790936554.py:3: FutureWarning: suggest_uniform has been deprecated in v3.0.0. This feature will be removed in v6.0.0. See https://github.com/optuna/optuna/releases/tag/v3.0.0. Use suggest_float instead.\n",
      "  'tol': trial.suggest_uniform('tol', 1e-6, 1e-3),\n",
      "/tmp/ipykernel_20/790936554.py:4: FutureWarning: suggest_loguniform has been deprecated in v3.0.0. This feature will be removed in v6.0.0. See https://github.com/optuna/optuna/releases/tag/v3.0.0. Use suggest_float(..., log=True) instead.\n",
      "  'C': trial.suggest_loguniform(\"C\", 1e-2, 1),\n",
      "[I 2023-11-23 20:10:00,367] Trial 6 finished with value: 0.38914373088685017 and parameters: {'tol': 0.0006631966270875308, 'C': 0.1934932272020549}. Best is trial 5 with value: 0.3948776758409786.\n",
      "/tmp/ipykernel_20/790936554.py:3: FutureWarning: suggest_uniform has been deprecated in v3.0.0. This feature will be removed in v6.0.0. See https://github.com/optuna/optuna/releases/tag/v3.0.0. Use suggest_float instead.\n",
      "  'tol': trial.suggest_uniform('tol', 1e-6, 1e-3),\n",
      "/tmp/ipykernel_20/790936554.py:4: FutureWarning: suggest_loguniform has been deprecated in v3.0.0. This feature will be removed in v6.0.0. See https://github.com/optuna/optuna/releases/tag/v3.0.0. Use suggest_float(..., log=True) instead.\n",
      "  'C': trial.suggest_loguniform(\"C\", 1e-2, 1),\n",
      "[I 2023-11-23 20:10:02,588] Trial 7 finished with value: 0.3889525993883792 and parameters: {'tol': 0.0006797453855635523, 'C': 0.04226332864918392}. Best is trial 5 with value: 0.3948776758409786.\n",
      "/tmp/ipykernel_20/790936554.py:3: FutureWarning: suggest_uniform has been deprecated in v3.0.0. This feature will be removed in v6.0.0. See https://github.com/optuna/optuna/releases/tag/v3.0.0. Use suggest_float instead.\n",
      "  'tol': trial.suggest_uniform('tol', 1e-6, 1e-3),\n",
      "/tmp/ipykernel_20/790936554.py:4: FutureWarning: suggest_loguniform has been deprecated in v3.0.0. This feature will be removed in v6.0.0. See https://github.com/optuna/optuna/releases/tag/v3.0.0. Use suggest_float(..., log=True) instead.\n",
      "  'C': trial.suggest_loguniform(\"C\", 1e-2, 1),\n",
      "[I 2023-11-23 20:10:04,750] Trial 8 finished with value: 0.3918195718654434 and parameters: {'tol': 0.0004479051994672819, 'C': 0.025608051545078406}. Best is trial 5 with value: 0.3948776758409786.\n",
      "/tmp/ipykernel_20/790936554.py:3: FutureWarning: suggest_uniform has been deprecated in v3.0.0. This feature will be removed in v6.0.0. See https://github.com/optuna/optuna/releases/tag/v3.0.0. Use suggest_float instead.\n",
      "  'tol': trial.suggest_uniform('tol', 1e-6, 1e-3),\n",
      "/tmp/ipykernel_20/790936554.py:4: FutureWarning: suggest_loguniform has been deprecated in v3.0.0. This feature will be removed in v6.0.0. See https://github.com/optuna/optuna/releases/tag/v3.0.0. Use suggest_float(..., log=True) instead.\n",
      "  'C': trial.suggest_loguniform(\"C\", 1e-2, 1),\n",
      "[I 2023-11-23 20:10:07,469] Trial 9 finished with value: 0.3908639143730887 and parameters: {'tol': 0.0008181011487342847, 'C': 0.15972183540890242}. Best is trial 5 with value: 0.3948776758409786.\n",
      "/tmp/ipykernel_20/790936554.py:3: FutureWarning: suggest_uniform has been deprecated in v3.0.0. This feature will be removed in v6.0.0. See https://github.com/optuna/optuna/releases/tag/v3.0.0. Use suggest_float instead.\n",
      "  'tol': trial.suggest_uniform('tol', 1e-6, 1e-3),\n",
      "/tmp/ipykernel_20/790936554.py:4: FutureWarning: suggest_loguniform has been deprecated in v3.0.0. This feature will be removed in v6.0.0. See https://github.com/optuna/optuna/releases/tag/v3.0.0. Use suggest_float(..., log=True) instead.\n",
      "  'C': trial.suggest_loguniform(\"C\", 1e-2, 1),\n",
      "[I 2023-11-23 20:10:09,466] Trial 10 finished with value: 0.39468654434250766 and parameters: {'tol': 0.0009765070097950523, 'C': 0.010410612779773218}. Best is trial 5 with value: 0.3948776758409786.\n",
      "/tmp/ipykernel_20/790936554.py:3: FutureWarning: suggest_uniform has been deprecated in v3.0.0. This feature will be removed in v6.0.0. See https://github.com/optuna/optuna/releases/tag/v3.0.0. Use suggest_float instead.\n",
      "  'tol': trial.suggest_uniform('tol', 1e-6, 1e-3),\n",
      "/tmp/ipykernel_20/790936554.py:4: FutureWarning: suggest_loguniform has been deprecated in v3.0.0. This feature will be removed in v6.0.0. See https://github.com/optuna/optuna/releases/tag/v3.0.0. Use suggest_float(..., log=True) instead.\n",
      "  'C': trial.suggest_loguniform(\"C\", 1e-2, 1),\n",
      "[I 2023-11-23 20:10:11,528] Trial 11 finished with value: 0.39468654434250766 and parameters: {'tol': 0.0009753504044717525, 'C': 0.01107671913594124}. Best is trial 5 with value: 0.3948776758409786.\n",
      "/tmp/ipykernel_20/790936554.py:3: FutureWarning: suggest_uniform has been deprecated in v3.0.0. This feature will be removed in v6.0.0. See https://github.com/optuna/optuna/releases/tag/v3.0.0. Use suggest_float instead.\n",
      "  'tol': trial.suggest_uniform('tol', 1e-6, 1e-3),\n",
      "/tmp/ipykernel_20/790936554.py:4: FutureWarning: suggest_loguniform has been deprecated in v3.0.0. This feature will be removed in v6.0.0. See https://github.com/optuna/optuna/releases/tag/v3.0.0. Use suggest_float(..., log=True) instead.\n",
      "  'C': trial.suggest_loguniform(\"C\", 1e-2, 1),\n",
      "[I 2023-11-23 20:10:13,564] Trial 12 finished with value: 0.3956422018348624 and parameters: {'tol': 0.0009906325376402949, 'C': 0.010234716617918822}. Best is trial 12 with value: 0.3956422018348624.\n",
      "/tmp/ipykernel_20/790936554.py:3: FutureWarning: suggest_uniform has been deprecated in v3.0.0. This feature will be removed in v6.0.0. See https://github.com/optuna/optuna/releases/tag/v3.0.0. Use suggest_float instead.\n",
      "  'tol': trial.suggest_uniform('tol', 1e-6, 1e-3),\n",
      "/tmp/ipykernel_20/790936554.py:4: FutureWarning: suggest_loguniform has been deprecated in v3.0.0. This feature will be removed in v6.0.0. See https://github.com/optuna/optuna/releases/tag/v3.0.0. Use suggest_float(..., log=True) instead.\n",
      "  'C': trial.suggest_loguniform(\"C\", 1e-2, 1),\n",
      "[I 2023-11-23 20:10:15,909] Trial 13 finished with value: 0.38952599388379205 and parameters: {'tol': 0.0004464825080254239, 'C': 0.04861419882838326}. Best is trial 12 with value: 0.3956422018348624.\n",
      "/tmp/ipykernel_20/790936554.py:3: FutureWarning: suggest_uniform has been deprecated in v3.0.0. This feature will be removed in v6.0.0. See https://github.com/optuna/optuna/releases/tag/v3.0.0. Use suggest_float instead.\n",
      "  'tol': trial.suggest_uniform('tol', 1e-6, 1e-3),\n",
      "/tmp/ipykernel_20/790936554.py:4: FutureWarning: suggest_loguniform has been deprecated in v3.0.0. This feature will be removed in v6.0.0. See https://github.com/optuna/optuna/releases/tag/v3.0.0. Use suggest_float(..., log=True) instead.\n",
      "  'C': trial.suggest_loguniform(\"C\", 1e-2, 1),\n",
      "[I 2023-11-23 20:10:18,054] Trial 14 finished with value: 0.3918195718654434 and parameters: {'tol': 0.0005258621255587566, 'C': 0.018945060874901856}. Best is trial 12 with value: 0.3956422018348624.\n",
      "/tmp/ipykernel_20/790936554.py:3: FutureWarning: suggest_uniform has been deprecated in v3.0.0. This feature will be removed in v6.0.0. See https://github.com/optuna/optuna/releases/tag/v3.0.0. Use suggest_float instead.\n",
      "  'tol': trial.suggest_uniform('tol', 1e-6, 1e-3),\n",
      "/tmp/ipykernel_20/790936554.py:4: FutureWarning: suggest_loguniform has been deprecated in v3.0.0. This feature will be removed in v6.0.0. See https://github.com/optuna/optuna/releases/tag/v3.0.0. Use suggest_float(..., log=True) instead.\n",
      "  'C': trial.suggest_loguniform(\"C\", 1e-2, 1),\n",
      "[I 2023-11-23 20:10:20,131] Trial 15 finished with value: 0.39201070336391436 and parameters: {'tol': 0.00087749130462862, 'C': 0.01660913762302003}. Best is trial 12 with value: 0.3956422018348624.\n",
      "/tmp/ipykernel_20/790936554.py:3: FutureWarning: suggest_uniform has been deprecated in v3.0.0. This feature will be removed in v6.0.0. See https://github.com/optuna/optuna/releases/tag/v3.0.0. Use suggest_float instead.\n",
      "  'tol': trial.suggest_uniform('tol', 1e-6, 1e-3),\n",
      "/tmp/ipykernel_20/790936554.py:4: FutureWarning: suggest_loguniform has been deprecated in v3.0.0. This feature will be removed in v6.0.0. See https://github.com/optuna/optuna/releases/tag/v3.0.0. Use suggest_float(..., log=True) instead.\n",
      "  'C': trial.suggest_loguniform(\"C\", 1e-2, 1),\n",
      "[I 2023-11-23 20:10:22,498] Trial 16 finished with value: 0.39067278287461776 and parameters: {'tol': 0.0009951063499290186, 'C': 0.06550941690645933}. Best is trial 12 with value: 0.3956422018348624.\n",
      "/tmp/ipykernel_20/790936554.py:3: FutureWarning: suggest_uniform has been deprecated in v3.0.0. This feature will be removed in v6.0.0. See https://github.com/optuna/optuna/releases/tag/v3.0.0. Use suggest_float instead.\n",
      "  'tol': trial.suggest_uniform('tol', 1e-6, 1e-3),\n",
      "/tmp/ipykernel_20/790936554.py:4: FutureWarning: suggest_loguniform has been deprecated in v3.0.0. This feature will be removed in v6.0.0. See https://github.com/optuna/optuna/releases/tag/v3.0.0. Use suggest_float(..., log=True) instead.\n",
      "  'C': trial.suggest_loguniform(\"C\", 1e-2, 1),\n",
      "[I 2023-11-23 20:10:24,782] Trial 17 finished with value: 0.39239296636085624 and parameters: {'tol': 0.00035356661154504576, 'C': 0.021096254878842147}. Best is trial 12 with value: 0.3956422018348624.\n",
      "/tmp/ipykernel_20/790936554.py:3: FutureWarning: suggest_uniform has been deprecated in v3.0.0. This feature will be removed in v6.0.0. See https://github.com/optuna/optuna/releases/tag/v3.0.0. Use suggest_float instead.\n",
      "  'tol': trial.suggest_uniform('tol', 1e-6, 1e-3),\n",
      "/tmp/ipykernel_20/790936554.py:4: FutureWarning: suggest_loguniform has been deprecated in v3.0.0. This feature will be removed in v6.0.0. See https://github.com/optuna/optuna/releases/tag/v3.0.0. Use suggest_float(..., log=True) instead.\n",
      "  'C': trial.suggest_loguniform(\"C\", 1e-2, 1),\n",
      "[I 2023-11-23 20:10:26,796] Trial 18 finished with value: 0.39545107033639143 and parameters: {'tol': 0.0006882777397542143, 'C': 0.010037497272259218}. Best is trial 12 with value: 0.3956422018348624.\n",
      "/tmp/ipykernel_20/790936554.py:3: FutureWarning: suggest_uniform has been deprecated in v3.0.0. This feature will be removed in v6.0.0. See https://github.com/optuna/optuna/releases/tag/v3.0.0. Use suggest_float instead.\n",
      "  'tol': trial.suggest_uniform('tol', 1e-6, 1e-3),\n",
      "/tmp/ipykernel_20/790936554.py:4: FutureWarning: suggest_loguniform has been deprecated in v3.0.0. This feature will be removed in v6.0.0. See https://github.com/optuna/optuna/releases/tag/v3.0.0. Use suggest_float(..., log=True) instead.\n",
      "  'C': trial.suggest_loguniform(\"C\", 1e-2, 1),\n",
      "[I 2023-11-23 20:10:28,982] Trial 19 finished with value: 0.3922018348623853 and parameters: {'tol': 0.0008756649688964378, 'C': 0.03135654677674217}. Best is trial 12 with value: 0.3956422018348624.\n",
      "/tmp/ipykernel_20/790936554.py:3: FutureWarning: suggest_uniform has been deprecated in v3.0.0. This feature will be removed in v6.0.0. See https://github.com/optuna/optuna/releases/tag/v3.0.0. Use suggest_float instead.\n",
      "  'tol': trial.suggest_uniform('tol', 1e-6, 1e-3),\n",
      "/tmp/ipykernel_20/790936554.py:4: FutureWarning: suggest_loguniform has been deprecated in v3.0.0. This feature will be removed in v6.0.0. See https://github.com/optuna/optuna/releases/tag/v3.0.0. Use suggest_float(..., log=True) instead.\n",
      "  'C': trial.suggest_loguniform(\"C\", 1e-2, 1),\n",
      "[I 2023-11-23 20:10:31,122] Trial 20 finished with value: 0.3918195718654434 and parameters: {'tol': 0.0007342376122864108, 'C': 0.018932686552621484}. Best is trial 12 with value: 0.3956422018348624.\n",
      "/tmp/ipykernel_20/790936554.py:3: FutureWarning: suggest_uniform has been deprecated in v3.0.0. This feature will be removed in v6.0.0. See https://github.com/optuna/optuna/releases/tag/v3.0.0. Use suggest_float instead.\n",
      "  'tol': trial.suggest_uniform('tol', 1e-6, 1e-3),\n",
      "/tmp/ipykernel_20/790936554.py:4: FutureWarning: suggest_loguniform has been deprecated in v3.0.0. This feature will be removed in v6.0.0. See https://github.com/optuna/optuna/releases/tag/v3.0.0. Use suggest_float(..., log=True) instead.\n",
      "  'C': trial.suggest_loguniform(\"C\", 1e-2, 1),\n",
      "[I 2023-11-23 20:10:33,150] Trial 21 finished with value: 0.3948776758409786 and parameters: {'tol': 0.0005980931168396132, 'C': 0.010823331588591861}. Best is trial 12 with value: 0.3956422018348624.\n",
      "/tmp/ipykernel_20/790936554.py:3: FutureWarning: suggest_uniform has been deprecated in v3.0.0. This feature will be removed in v6.0.0. See https://github.com/optuna/optuna/releases/tag/v3.0.0. Use suggest_float instead.\n",
      "  'tol': trial.suggest_uniform('tol', 1e-6, 1e-3),\n",
      "/tmp/ipykernel_20/790936554.py:4: FutureWarning: suggest_loguniform has been deprecated in v3.0.0. This feature will be removed in v6.0.0. See https://github.com/optuna/optuna/releases/tag/v3.0.0. Use suggest_float(..., log=True) instead.\n",
      "  'C': trial.suggest_loguniform(\"C\", 1e-2, 1),\n",
      "[I 2023-11-23 20:10:35,324] Trial 22 finished with value: 0.3922018348623853 and parameters: {'tol': 0.0006011908326485178, 'C': 0.016685286194503744}. Best is trial 12 with value: 0.3956422018348624.\n",
      "/tmp/ipykernel_20/790936554.py:3: FutureWarning: suggest_uniform has been deprecated in v3.0.0. This feature will be removed in v6.0.0. See https://github.com/optuna/optuna/releases/tag/v3.0.0. Use suggest_float instead.\n",
      "  'tol': trial.suggest_uniform('tol', 1e-6, 1e-3),\n",
      "/tmp/ipykernel_20/790936554.py:4: FutureWarning: suggest_loguniform has been deprecated in v3.0.0. This feature will be removed in v6.0.0. See https://github.com/optuna/optuna/releases/tag/v3.0.0. Use suggest_float(..., log=True) instead.\n",
      "  'C': trial.suggest_loguniform(\"C\", 1e-2, 1),\n",
      "[I 2023-11-23 20:10:37,324] Trial 23 finished with value: 0.3952599388379205 and parameters: {'tol': 0.0008767234929232254, 'C': 0.010302151484928837}. Best is trial 12 with value: 0.3956422018348624.\n",
      "/tmp/ipykernel_20/790936554.py:3: FutureWarning: suggest_uniform has been deprecated in v3.0.0. This feature will be removed in v6.0.0. See https://github.com/optuna/optuna/releases/tag/v3.0.0. Use suggest_float instead.\n",
      "  'tol': trial.suggest_uniform('tol', 1e-6, 1e-3),\n",
      "/tmp/ipykernel_20/790936554.py:4: FutureWarning: suggest_loguniform has been deprecated in v3.0.0. This feature will be removed in v6.0.0. See https://github.com/optuna/optuna/releases/tag/v3.0.0. Use suggest_float(..., log=True) instead.\n",
      "  'C': trial.suggest_loguniform(\"C\", 1e-2, 1),\n",
      "[I 2023-11-23 20:10:39,295] Trial 24 finished with value: 0.39468654434250766 and parameters: {'tol': 0.0009023952793200563, 'C': 0.010441281829210752}. Best is trial 12 with value: 0.3956422018348624.\n",
      "/tmp/ipykernel_20/790936554.py:3: FutureWarning: suggest_uniform has been deprecated in v3.0.0. This feature will be removed in v6.0.0. See https://github.com/optuna/optuna/releases/tag/v3.0.0. Use suggest_float instead.\n",
      "  'tol': trial.suggest_uniform('tol', 1e-6, 1e-3),\n",
      "/tmp/ipykernel_20/790936554.py:4: FutureWarning: suggest_loguniform has been deprecated in v3.0.0. This feature will be removed in v6.0.0. See https://github.com/optuna/optuna/releases/tag/v3.0.0. Use suggest_float(..., log=True) instead.\n",
      "  'C': trial.suggest_loguniform(\"C\", 1e-2, 1),\n",
      "[I 2023-11-23 20:10:41,371] Trial 25 finished with value: 0.393348623853211 and parameters: {'tol': 0.000908580774656676, 'C': 0.015851583415149237}. Best is trial 12 with value: 0.3956422018348624.\n",
      "/tmp/ipykernel_20/790936554.py:3: FutureWarning: suggest_uniform has been deprecated in v3.0.0. This feature will be removed in v6.0.0. See https://github.com/optuna/optuna/releases/tag/v3.0.0. Use suggest_float instead.\n",
      "  'tol': trial.suggest_uniform('tol', 1e-6, 1e-3),\n",
      "/tmp/ipykernel_20/790936554.py:4: FutureWarning: suggest_loguniform has been deprecated in v3.0.0. This feature will be removed in v6.0.0. See https://github.com/optuna/optuna/releases/tag/v3.0.0. Use suggest_float(..., log=True) instead.\n",
      "  'C': trial.suggest_loguniform(\"C\", 1e-2, 1),\n",
      "[I 2023-11-23 20:10:43,514] Trial 26 finished with value: 0.39143730886850153 and parameters: {'tol': 0.0008114264497338145, 'C': 0.026686180953769165}. Best is trial 12 with value: 0.3956422018348624.\n",
      "/tmp/ipykernel_20/790936554.py:3: FutureWarning: suggest_uniform has been deprecated in v3.0.0. This feature will be removed in v6.0.0. See https://github.com/optuna/optuna/releases/tag/v3.0.0. Use suggest_float instead.\n",
      "  'tol': trial.suggest_uniform('tol', 1e-6, 1e-3),\n",
      "/tmp/ipykernel_20/790936554.py:4: FutureWarning: suggest_loguniform has been deprecated in v3.0.0. This feature will be removed in v6.0.0. See https://github.com/optuna/optuna/releases/tag/v3.0.0. Use suggest_float(..., log=True) instead.\n",
      "  'C': trial.suggest_loguniform(\"C\", 1e-2, 1),\n",
      "[I 2023-11-23 20:10:45,578] Trial 27 finished with value: 0.39506880733944955 and parameters: {'tol': 0.0007635932410413684, 'C': 0.014029259538075161}. Best is trial 12 with value: 0.3956422018348624.\n",
      "/tmp/ipykernel_20/790936554.py:3: FutureWarning: suggest_uniform has been deprecated in v3.0.0. This feature will be removed in v6.0.0. See https://github.com/optuna/optuna/releases/tag/v3.0.0. Use suggest_float instead.\n",
      "  'tol': trial.suggest_uniform('tol', 1e-6, 1e-3),\n",
      "/tmp/ipykernel_20/790936554.py:4: FutureWarning: suggest_loguniform has been deprecated in v3.0.0. This feature will be removed in v6.0.0. See https://github.com/optuna/optuna/releases/tag/v3.0.0. Use suggest_float(..., log=True) instead.\n",
      "  'C': trial.suggest_loguniform(\"C\", 1e-2, 1),\n",
      "[I 2023-11-23 20:10:47,562] Trial 28 finished with value: 0.3956422018348624 and parameters: {'tol': 0.0009353456667784484, 'C': 0.010097407883191195}. Best is trial 12 with value: 0.3956422018348624.\n",
      "/tmp/ipykernel_20/790936554.py:3: FutureWarning: suggest_uniform has been deprecated in v3.0.0. This feature will be removed in v6.0.0. See https://github.com/optuna/optuna/releases/tag/v3.0.0. Use suggest_float instead.\n",
      "  'tol': trial.suggest_uniform('tol', 1e-6, 1e-3),\n",
      "/tmp/ipykernel_20/790936554.py:4: FutureWarning: suggest_loguniform has been deprecated in v3.0.0. This feature will be removed in v6.0.0. See https://github.com/optuna/optuna/releases/tag/v3.0.0. Use suggest_float(..., log=True) instead.\n",
      "  'C': trial.suggest_loguniform(\"C\", 1e-2, 1),\n",
      "[I 2023-11-23 20:10:49,623] Trial 29 finished with value: 0.3937308868501529 and parameters: {'tol': 0.0009549742251560221, 'C': 0.014227482457431835}. Best is trial 12 with value: 0.3956422018348624.\n",
      "/tmp/ipykernel_20/790936554.py:3: FutureWarning: suggest_uniform has been deprecated in v3.0.0. This feature will be removed in v6.0.0. See https://github.com/optuna/optuna/releases/tag/v3.0.0. Use suggest_float instead.\n",
      "  'tol': trial.suggest_uniform('tol', 1e-6, 1e-3),\n",
      "/tmp/ipykernel_20/790936554.py:4: FutureWarning: suggest_loguniform has been deprecated in v3.0.0. This feature will be removed in v6.0.0. See https://github.com/optuna/optuna/releases/tag/v3.0.0. Use suggest_float(..., log=True) instead.\n",
      "  'C': trial.suggest_loguniform(\"C\", 1e-2, 1),\n",
      "[I 2023-11-23 20:10:51,782] Trial 30 finished with value: 0.39143730886850153 and parameters: {'tol': 0.0007128903956467384, 'C': 0.022986137980720765}. Best is trial 12 with value: 0.3956422018348624.\n",
      "/tmp/ipykernel_20/790936554.py:3: FutureWarning: suggest_uniform has been deprecated in v3.0.0. This feature will be removed in v6.0.0. See https://github.com/optuna/optuna/releases/tag/v3.0.0. Use suggest_float instead.\n",
      "  'tol': trial.suggest_uniform('tol', 1e-6, 1e-3),\n",
      "/tmp/ipykernel_20/790936554.py:4: FutureWarning: suggest_loguniform has been deprecated in v3.0.0. This feature will be removed in v6.0.0. See https://github.com/optuna/optuna/releases/tag/v3.0.0. Use suggest_float(..., log=True) instead.\n",
      "  'C': trial.suggest_loguniform(\"C\", 1e-2, 1),\n",
      "[I 2023-11-23 20:10:53,792] Trial 31 finished with value: 0.3958333333333333 and parameters: {'tol': 0.0008499687630334073, 'C': 0.010002416760993617}. Best is trial 31 with value: 0.3958333333333333.\n",
      "/tmp/ipykernel_20/790936554.py:3: FutureWarning: suggest_uniform has been deprecated in v3.0.0. This feature will be removed in v6.0.0. See https://github.com/optuna/optuna/releases/tag/v3.0.0. Use suggest_float instead.\n",
      "  'tol': trial.suggest_uniform('tol', 1e-6, 1e-3),\n",
      "/tmp/ipykernel_20/790936554.py:4: FutureWarning: suggest_loguniform has been deprecated in v3.0.0. This feature will be removed in v6.0.0. See https://github.com/optuna/optuna/releases/tag/v3.0.0. Use suggest_float(..., log=True) instead.\n",
      "  'C': trial.suggest_loguniform(\"C\", 1e-2, 1),\n",
      "[I 2023-11-23 20:10:55,822] Trial 32 finished with value: 0.39506880733944955 and parameters: {'tol': 0.0007972904665780655, 'C': 0.01367279993112418}. Best is trial 31 with value: 0.3958333333333333.\n",
      "/tmp/ipykernel_20/790936554.py:3: FutureWarning: suggest_uniform has been deprecated in v3.0.0. This feature will be removed in v6.0.0. See https://github.com/optuna/optuna/releases/tag/v3.0.0. Use suggest_float instead.\n",
      "  'tol': trial.suggest_uniform('tol', 1e-6, 1e-3),\n",
      "/tmp/ipykernel_20/790936554.py:4: FutureWarning: suggest_loguniform has been deprecated in v3.0.0. This feature will be removed in v6.0.0. See https://github.com/optuna/optuna/releases/tag/v3.0.0. Use suggest_float(..., log=True) instead.\n",
      "  'C': trial.suggest_loguniform(\"C\", 1e-2, 1),\n",
      "[I 2023-11-23 20:10:57,832] Trial 33 finished with value: 0.3958333333333333 and parameters: {'tol': 0.0009317121278275505, 'C': 0.010157032063819115}. Best is trial 31 with value: 0.3958333333333333.\n",
      "/tmp/ipykernel_20/790936554.py:3: FutureWarning: suggest_uniform has been deprecated in v3.0.0. This feature will be removed in v6.0.0. See https://github.com/optuna/optuna/releases/tag/v3.0.0. Use suggest_float instead.\n",
      "  'tol': trial.suggest_uniform('tol', 1e-6, 1e-3),\n",
      "/tmp/ipykernel_20/790936554.py:4: FutureWarning: suggest_loguniform has been deprecated in v3.0.0. This feature will be removed in v6.0.0. See https://github.com/optuna/optuna/releases/tag/v3.0.0. Use suggest_float(..., log=True) instead.\n",
      "  'C': trial.suggest_loguniform(\"C\", 1e-2, 1),\n",
      "[I 2023-11-23 20:10:59,931] Trial 34 finished with value: 0.3922018348623853 and parameters: {'tol': 0.0009283616998179841, 'C': 0.01809814318031791}. Best is trial 31 with value: 0.3958333333333333.\n",
      "/tmp/ipykernel_20/790936554.py:3: FutureWarning: suggest_uniform has been deprecated in v3.0.0. This feature will be removed in v6.0.0. See https://github.com/optuna/optuna/releases/tag/v3.0.0. Use suggest_float instead.\n",
      "  'tol': trial.suggest_uniform('tol', 1e-6, 1e-3),\n",
      "/tmp/ipykernel_20/790936554.py:4: FutureWarning: suggest_loguniform has been deprecated in v3.0.0. This feature will be removed in v6.0.0. See https://github.com/optuna/optuna/releases/tag/v3.0.0. Use suggest_float(..., log=True) instead.\n",
      "  'C': trial.suggest_loguniform(\"C\", 1e-2, 1),\n",
      "[I 2023-11-23 20:11:01,973] Trial 35 finished with value: 0.3948776758409786 and parameters: {'tol': 0.000987674508106964, 'C': 0.013218768860304365}. Best is trial 31 with value: 0.3958333333333333.\n",
      "/tmp/ipykernel_20/790936554.py:3: FutureWarning: suggest_uniform has been deprecated in v3.0.0. This feature will be removed in v6.0.0. See https://github.com/optuna/optuna/releases/tag/v3.0.0. Use suggest_float instead.\n",
      "  'tol': trial.suggest_uniform('tol', 1e-6, 1e-3),\n",
      "/tmp/ipykernel_20/790936554.py:4: FutureWarning: suggest_loguniform has been deprecated in v3.0.0. This feature will be removed in v6.0.0. See https://github.com/optuna/optuna/releases/tag/v3.0.0. Use suggest_float(..., log=True) instead.\n",
      "  'C': trial.suggest_loguniform(\"C\", 1e-2, 1),\n",
      "[I 2023-11-23 20:11:04,162] Trial 36 finished with value: 0.3918195718654434 and parameters: {'tol': 0.0008485188386342313, 'C': 0.03172056478469768}. Best is trial 31 with value: 0.3958333333333333.\n",
      "/tmp/ipykernel_20/790936554.py:3: FutureWarning: suggest_uniform has been deprecated in v3.0.0. This feature will be removed in v6.0.0. See https://github.com/optuna/optuna/releases/tag/v3.0.0. Use suggest_float instead.\n",
      "  'tol': trial.suggest_uniform('tol', 1e-6, 1e-3),\n",
      "/tmp/ipykernel_20/790936554.py:4: FutureWarning: suggest_loguniform has been deprecated in v3.0.0. This feature will be removed in v6.0.0. See https://github.com/optuna/optuna/releases/tag/v3.0.0. Use suggest_float(..., log=True) instead.\n",
      "  'C': trial.suggest_loguniform(\"C\", 1e-2, 1),\n",
      "[I 2023-11-23 20:11:06,288] Trial 37 finished with value: 0.3927752293577982 and parameters: {'tol': 0.0009440652825977374, 'C': 0.021822357642656654}. Best is trial 31 with value: 0.3958333333333333.\n",
      "/tmp/ipykernel_20/790936554.py:3: FutureWarning: suggest_uniform has been deprecated in v3.0.0. This feature will be removed in v6.0.0. See https://github.com/optuna/optuna/releases/tag/v3.0.0. Use suggest_float instead.\n",
      "  'tol': trial.suggest_uniform('tol', 1e-6, 1e-3),\n",
      "/tmp/ipykernel_20/790936554.py:4: FutureWarning: suggest_loguniform has been deprecated in v3.0.0. This feature will be removed in v6.0.0. See https://github.com/optuna/optuna/releases/tag/v3.0.0. Use suggest_float(..., log=True) instead.\n",
      "  'C': trial.suggest_loguniform(\"C\", 1e-2, 1),\n",
      "[I 2023-11-23 20:11:08,317] Trial 38 finished with value: 0.39468654434250766 and parameters: {'tol': 0.0008380267482004335, 'C': 0.014069886486187622}. Best is trial 31 with value: 0.3958333333333333.\n",
      "/tmp/ipykernel_20/790936554.py:3: FutureWarning: suggest_uniform has been deprecated in v3.0.0. This feature will be removed in v6.0.0. See https://github.com/optuna/optuna/releases/tag/v3.0.0. Use suggest_float instead.\n",
      "  'tol': trial.suggest_uniform('tol', 1e-6, 1e-3),\n",
      "/tmp/ipykernel_20/790936554.py:4: FutureWarning: suggest_loguniform has been deprecated in v3.0.0. This feature will be removed in v6.0.0. See https://github.com/optuna/optuna/releases/tag/v3.0.0. Use suggest_float(..., log=True) instead.\n",
      "  'C': trial.suggest_loguniform(\"C\", 1e-2, 1),\n",
      "[I 2023-11-23 20:11:10,325] Trial 39 finished with value: 0.3948776758409786 and parameters: {'tol': 0.0009207959725144223, 'C': 0.013364937061185177}. Best is trial 31 with value: 0.3958333333333333.\n",
      "/tmp/ipykernel_20/790936554.py:3: FutureWarning: suggest_uniform has been deprecated in v3.0.0. This feature will be removed in v6.0.0. See https://github.com/optuna/optuna/releases/tag/v3.0.0. Use suggest_float instead.\n",
      "  'tol': trial.suggest_uniform('tol', 1e-6, 1e-3),\n",
      "/tmp/ipykernel_20/790936554.py:4: FutureWarning: suggest_loguniform has been deprecated in v3.0.0. This feature will be removed in v6.0.0. See https://github.com/optuna/optuna/releases/tag/v3.0.0. Use suggest_float(..., log=True) instead.\n",
      "  'C': trial.suggest_loguniform(\"C\", 1e-2, 1),\n",
      "[I 2023-11-23 20:11:12,561] Trial 40 finished with value: 0.3918195718654434 and parameters: {'tol': 0.0007712286026213575, 'C': 0.03489928515246608}. Best is trial 31 with value: 0.3958333333333333.\n",
      "/tmp/ipykernel_20/790936554.py:3: FutureWarning: suggest_uniform has been deprecated in v3.0.0. This feature will be removed in v6.0.0. See https://github.com/optuna/optuna/releases/tag/v3.0.0. Use suggest_float instead.\n",
      "  'tol': trial.suggest_uniform('tol', 1e-6, 1e-3),\n",
      "/tmp/ipykernel_20/790936554.py:4: FutureWarning: suggest_loguniform has been deprecated in v3.0.0. This feature will be removed in v6.0.0. See https://github.com/optuna/optuna/releases/tag/v3.0.0. Use suggest_float(..., log=True) instead.\n",
      "  'C': trial.suggest_loguniform(\"C\", 1e-2, 1),\n",
      "[I 2023-11-23 20:11:14,673] Trial 41 finished with value: 0.3956422018348624 and parameters: {'tol': 0.0008449660868256357, 'C': 0.010083174601717138}. Best is trial 31 with value: 0.3958333333333333.\n",
      "/tmp/ipykernel_20/790936554.py:3: FutureWarning: suggest_uniform has been deprecated in v3.0.0. This feature will be removed in v6.0.0. See https://github.com/optuna/optuna/releases/tag/v3.0.0. Use suggest_float instead.\n",
      "  'tol': trial.suggest_uniform('tol', 1e-6, 1e-3),\n",
      "/tmp/ipykernel_20/790936554.py:4: FutureWarning: suggest_loguniform has been deprecated in v3.0.0. This feature will be removed in v6.0.0. See https://github.com/optuna/optuna/releases/tag/v3.0.0. Use suggest_float(..., log=True) instead.\n",
      "  'C': trial.suggest_loguniform(\"C\", 1e-2, 1),\n",
      "[I 2023-11-23 20:11:16,703] Trial 42 finished with value: 0.3943042813455658 and parameters: {'tol': 0.0008474193632425079, 'C': 0.012434559224804503}. Best is trial 31 with value: 0.3958333333333333.\n",
      "/tmp/ipykernel_20/790936554.py:3: FutureWarning: suggest_uniform has been deprecated in v3.0.0. This feature will be removed in v6.0.0. See https://github.com/optuna/optuna/releases/tag/v3.0.0. Use suggest_float instead.\n",
      "  'tol': trial.suggest_uniform('tol', 1e-6, 1e-3),\n",
      "/tmp/ipykernel_20/790936554.py:4: FutureWarning: suggest_loguniform has been deprecated in v3.0.0. This feature will be removed in v6.0.0. See https://github.com/optuna/optuna/releases/tag/v3.0.0. Use suggest_float(..., log=True) instead.\n",
      "  'C': trial.suggest_loguniform(\"C\", 1e-2, 1),\n",
      "[I 2023-11-23 20:11:18,819] Trial 43 finished with value: 0.39105504587155965 and parameters: {'tol': 0.0009994182848502065, 'C': 0.01764195532200731}. Best is trial 31 with value: 0.3958333333333333.\n",
      "/tmp/ipykernel_20/790936554.py:3: FutureWarning: suggest_uniform has been deprecated in v3.0.0. This feature will be removed in v6.0.0. See https://github.com/optuna/optuna/releases/tag/v3.0.0. Use suggest_float instead.\n",
      "  'tol': trial.suggest_uniform('tol', 1e-6, 1e-3),\n",
      "/tmp/ipykernel_20/790936554.py:4: FutureWarning: suggest_loguniform has been deprecated in v3.0.0. This feature will be removed in v6.0.0. See https://github.com/optuna/optuna/releases/tag/v3.0.0. Use suggest_float(..., log=True) instead.\n",
      "  'C': trial.suggest_loguniform(\"C\", 1e-2, 1),\n",
      "[I 2023-11-23 20:11:21,028] Trial 44 finished with value: 0.39239296636085624 and parameters: {'tol': 0.0008998295297335663, 'C': 0.02421608285208087}. Best is trial 31 with value: 0.3958333333333333.\n",
      "/tmp/ipykernel_20/790936554.py:3: FutureWarning: suggest_uniform has been deprecated in v3.0.0. This feature will be removed in v6.0.0. See https://github.com/optuna/optuna/releases/tag/v3.0.0. Use suggest_float instead.\n",
      "  'tol': trial.suggest_uniform('tol', 1e-6, 1e-3),\n",
      "/tmp/ipykernel_20/790936554.py:4: FutureWarning: suggest_loguniform has been deprecated in v3.0.0. This feature will be removed in v6.0.0. See https://github.com/optuna/optuna/releases/tag/v3.0.0. Use suggest_float(..., log=True) instead.\n",
      "  'C': trial.suggest_loguniform(\"C\", 1e-2, 1),\n",
      "[I 2023-11-23 20:11:23,001] Trial 45 finished with value: 0.39506880733944955 and parameters: {'tol': 0.0009420471562620121, 'C': 0.011731865106604324}. Best is trial 31 with value: 0.3958333333333333.\n",
      "/tmp/ipykernel_20/790936554.py:3: FutureWarning: suggest_uniform has been deprecated in v3.0.0. This feature will be removed in v6.0.0. See https://github.com/optuna/optuna/releases/tag/v3.0.0. Use suggest_float instead.\n",
      "  'tol': trial.suggest_uniform('tol', 1e-6, 1e-3),\n",
      "/tmp/ipykernel_20/790936554.py:4: FutureWarning: suggest_loguniform has been deprecated in v3.0.0. This feature will be removed in v6.0.0. See https://github.com/optuna/optuna/releases/tag/v3.0.0. Use suggest_float(..., log=True) instead.\n",
      "  'C': trial.suggest_loguniform(\"C\", 1e-2, 1),\n",
      "[I 2023-11-23 20:11:25,235] Trial 46 finished with value: 0.39239296636085624 and parameters: {'tol': 0.0007798310859004674, 'C': 0.01617430332888541}. Best is trial 31 with value: 0.3958333333333333.\n",
      "/tmp/ipykernel_20/790936554.py:3: FutureWarning: suggest_uniform has been deprecated in v3.0.0. This feature will be removed in v6.0.0. See https://github.com/optuna/optuna/releases/tag/v3.0.0. Use suggest_float instead.\n",
      "  'tol': trial.suggest_uniform('tol', 1e-6, 1e-3),\n",
      "/tmp/ipykernel_20/790936554.py:4: FutureWarning: suggest_loguniform has been deprecated in v3.0.0. This feature will be removed in v6.0.0. See https://github.com/optuna/optuna/releases/tag/v3.0.0. Use suggest_float(..., log=True) instead.\n",
      "  'C': trial.suggest_loguniform(\"C\", 1e-2, 1),\n",
      "[I 2023-11-23 20:11:27,269] Trial 47 finished with value: 0.3943042813455658 and parameters: {'tol': 0.0008271386429475572, 'C': 0.01205260817229956}. Best is trial 31 with value: 0.3958333333333333.\n",
      "/tmp/ipykernel_20/790936554.py:3: FutureWarning: suggest_uniform has been deprecated in v3.0.0. This feature will be removed in v6.0.0. See https://github.com/optuna/optuna/releases/tag/v3.0.0. Use suggest_float instead.\n",
      "  'tol': trial.suggest_uniform('tol', 1e-6, 1e-3),\n",
      "/tmp/ipykernel_20/790936554.py:4: FutureWarning: suggest_loguniform has been deprecated in v3.0.0. This feature will be removed in v6.0.0. See https://github.com/optuna/optuna/releases/tag/v3.0.0. Use suggest_float(..., log=True) instead.\n",
      "  'C': trial.suggest_loguniform(\"C\", 1e-2, 1),\n",
      "[I 2023-11-23 20:11:29,485] Trial 48 finished with value: 0.39258409785932724 and parameters: {'tol': 0.0009513370587352014, 'C': 0.02084316063487597}. Best is trial 31 with value: 0.3958333333333333.\n",
      "/tmp/ipykernel_20/790936554.py:3: FutureWarning: suggest_uniform has been deprecated in v3.0.0. This feature will be removed in v6.0.0. See https://github.com/optuna/optuna/releases/tag/v3.0.0. Use suggest_float instead.\n",
      "  'tol': trial.suggest_uniform('tol', 1e-6, 1e-3),\n",
      "/tmp/ipykernel_20/790936554.py:4: FutureWarning: suggest_loguniform has been deprecated in v3.0.0. This feature will be removed in v6.0.0. See https://github.com/optuna/optuna/releases/tag/v3.0.0. Use suggest_float(..., log=True) instead.\n",
      "  'C': trial.suggest_loguniform(\"C\", 1e-2, 1),\n",
      "[I 2023-11-23 20:11:31,551] Trial 49 finished with value: 0.3958333333333333 and parameters: {'tol': 0.0007363989159361564, 'C': 0.010004759984186411}. Best is trial 31 with value: 0.3958333333333333.\n"
     ]
    },
    {
     "name": "stdout",
     "output_type": "stream",
     "text": [
      "Best params: {'tol': 0.0008499687630334073, 'C': 0.010002416760993617}\n",
      "Accuracy valid: 0.3958333333333333\n",
      "Validation class:\n",
      "               precision    recall  f1-score   support\n",
      "\n",
      "           0       0.39      0.44      0.41      1744\n",
      "           1       0.39      0.41      0.40      1744\n",
      "           2       0.42      0.35      0.38      1744\n",
      "\n",
      "    accuracy                           0.40      5232\n",
      "   macro avg       0.40      0.40      0.40      5232\n",
      "weighted avg       0.40      0.40      0.40      5232\n",
      "\n"
     ]
    }
   ],
   "source": [
    "def objective(trial):\n",
    "    params = {\n",
    "        'tol': trial.suggest_uniform('tol', 1e-6, 1e-3),\n",
    "        'C': trial.suggest_loguniform(\"C\", 1e-2, 1),\n",
    "        \"n_jobs\" : -1\n",
    "    }\n",
    "\n",
    "    count_vec = CountVectorizer(max_features=5000)\n",
    "    X_train_count = count_vec.fit_transform(X_train)\n",
    "    X_validation_count = count_vec.transform(X_validation)\n",
    "\n",
    "\n",
    "    log_model = LogisticRegression(**params,max_iter = 2000)\n",
    "    log_model.fit(X_train_count, y_train)\n",
    "    y_validation_pred = log_model.predict(X_validation_count)\n",
    "\n",
    "    accuracy = accuracy_score(y_validation, y_validation_pred)\n",
    "\n",
    "    return accuracy\n",
    "\n",
    "study = optuna.create_study(direction='maximize')\n",
    "study.optimize(objective, n_trials=50)\n",
    "\n",
    "best_params = study.best_params\n",
    "best_model = LogisticRegression(**best_params, max_iter=2000, random_state=0)\n",
    "best_model.fit(X_train_count, y_train)\n",
    "\n",
    "X_validation_count = count_vec.transform(X_validation)\n",
    "y_validation_pred = best_model.predict(X_validation_count)\n",
    "\n",
    "print(\"Best params:\", best_params)\n",
    "print(\"Accuracy valid:\", accuracy_score(y_validation, y_validation_pred))\n",
    "print(\"Validation class:\\n\", classification_report(y_validation, y_validation_pred))"
   ]
  },
  {
   "cell_type": "markdown",
   "id": "2f64d405",
   "metadata": {
    "id": "5HyjMAayjnbN",
    "papermill": {
     "duration": 0.014716,
     "end_time": "2023-11-23T20:11:32.347138",
     "exception": false,
     "start_time": "2023-11-23T20:11:32.332422",
     "status": "completed"
    },
    "tags": []
   },
   "source": [
    "**LEARNING CURVE**"
   ]
  },
  {
   "cell_type": "code",
   "execution_count": 12,
   "id": "7185153d",
   "metadata": {
    "execution": {
     "iopub.execute_input": "2023-11-23T20:11:32.425585Z",
     "iopub.status.busy": "2023-11-23T20:11:32.424929Z",
     "iopub.status.idle": "2023-11-23T20:11:51.430523Z",
     "shell.execute_reply": "2023-11-23T20:11:51.429448Z"
    },
    "id": "IuExWkpZjmvA",
    "papermill": {
     "duration": 19.071243,
     "end_time": "2023-11-23T20:11:51.432745",
     "exception": false,
     "start_time": "2023-11-23T20:11:32.361502",
     "status": "completed"
    },
    "tags": []
   },
   "outputs": [
    {
     "name": "stdout",
     "output_type": "stream",
     "text": [
      "F1 Score Train: 0.972097284690988\n",
      "F1 Score Validation: 0.3061033552076609\n",
      "F1 Score Train: 0.9016647971313482\n",
      "F1 Score Validation: 0.3732630342485294\n",
      "F1 Score Train: 0.8127628323758084\n",
      "F1 Score Validation: 0.3743743492938138\n",
      "F1 Score Train: 0.7411425056159044\n",
      "F1 Score Validation: 0.37039623566721724\n",
      "F1 Score Train: 0.6917079578652569\n",
      "F1 Score Validation: 0.38266414528807097\n",
      "F1 Score Train: 0.6466237670906295\n",
      "F1 Score Validation: 0.37078190496457486\n",
      "F1 Score Train: 0.6189211495823265\n",
      "F1 Score Validation: 0.3699288698321651\n",
      "F1 Score Train: 0.5992605805664318\n",
      "F1 Score Validation: 0.37772550568846147\n",
      "F1 Score Train: 0.5796907003916718\n",
      "F1 Score Validation: 0.3822506011231476\n",
      "F1 Score Train: 0.5676706103895286\n",
      "F1 Score Validation: 0.38077725158000436\n"
     ]
    },
    {
     "data": {
      "image/png": "[encoded data removed]",
      "text/plain": [
       "<Figure size 640x480 with 1 Axes>"
      ]
     },
     "metadata": {},
     "output_type": "display_data"
    }
   ],
   "source": [
    "list_f1=[]\n",
    "list_f1_train=[]\n",
    "list_sample_size=[]\n",
    "for times in range(10):\n",
    "\n",
    "  X_train_subset, _, y_train_subset, _ = train_test_split(X_train_count,y_train, test_size=1-(times*0.1 + 0.001))\n",
    "\n",
    "  classifier = LogisticRegression(max_iter=2000)\n",
    "  classifier.fit(X_train_subset, np.ravel(y_train_subset))\n",
    "\n",
    "  results_train = classifier.predict(X_train_subset)\n",
    "\n",
    "  # validation\n",
    "  #\n",
    "  results = classifier.predict(X_validation_count)\n",
    "\n",
    "  # score\n",
    "  #\n",
    "  f1_train = f1_score(y_train_subset, results_train, average='weighted')\n",
    "  print(\"F1 Score Train: \" + str(f1_train))\n",
    "\n",
    "  f1 = f1_score(y_validation, results, average='weighted')\n",
    "  print(\"F1 Score Validation: \" + str(f1))\n",
    "\n",
    "  list_f1.append(f1)\n",
    "  list_f1_train.append(f1_train)\n",
    "  list_sample_size.append((times * 0.1 + 0.1))\n",
    "\n",
    "plt.plot(list_sample_size, list_f1)\n",
    "plt.plot(list_sample_size, list_f1_train)\n",
    "\n",
    "plt.ylim(ymin=0)\n",
    "plt.legend([\"Validation\", \"Training\"])\n",
    "plt.show()"
   ]
  },
  {
   "cell_type": "markdown",
   "id": "3b326ed0",
   "metadata": {
    "id": "vldWM0gzQSyn",
    "papermill": {
     "duration": 0.014458,
     "end_time": "2023-11-23T20:11:51.462750",
     "exception": false,
     "start_time": "2023-11-23T20:11:51.448292",
     "status": "completed"
    },
    "tags": []
   },
   "source": [
    "**ROC CURVE**"
   ]
  },
  {
   "cell_type": "code",
   "execution_count": 13,
   "id": "4157aac3",
   "metadata": {
    "execution": {
     "iopub.execute_input": "2023-11-23T20:11:51.493217Z",
     "iopub.status.busy": "2023-11-23T20:11:51.492859Z",
     "iopub.status.idle": "2023-11-23T20:11:56.981594Z",
     "shell.execute_reply": "2023-11-23T20:11:56.980482Z"
    },
    "id": "9CzmgWxwFAoW",
    "papermill": {
     "duration": 5.506528,
     "end_time": "2023-11-23T20:11:56.983776",
     "exception": false,
     "start_time": "2023-11-23T20:11:51.477248",
     "status": "completed"
    },
    "tags": []
   },
   "outputs": [
    {
     "data": {
      "image/png": "[encoded data removed]",
      "text/plain": [
       "<Figure size 800x600 with 1 Axes>"
      ]
     },
     "metadata": {},
     "output_type": "display_data"
    }
   ],
   "source": [
    "def take_sentiment(i):\n",
    "  if i == 2:\n",
    "    return 'Positive'\n",
    "  elif i == 0:\n",
    "    return 'Negative'\n",
    "  else:\n",
    "    return'Neutral'\n",
    "\n",
    "y_validation_binarized = label_binarize(y_validation, classes=[0, 1, 2])\n",
    "\n",
    "# Εκπαίδευση του μοντέλου και πρόβλεψη πιθανοτήτων\n",
    "log_model = LogisticRegression(max_iter=2000)\n",
    "log_model.fit(X_train_count, y_train)\n",
    "y_validation_probs = log_model.predict_proba(X_validation_count)\n",
    "\n",
    "# ROC AND AUC\n",
    "n_classes = len(np.unique(y_train))\n",
    "fpr = dict()\n",
    "tpr = dict()\n",
    "roc_auc = dict()\n",
    "for i in range(n_classes):\n",
    "    fpr[i], tpr[i], _ = roc_curve(y_validation_binarized[:, i], y_validation_probs[:, i])\n",
    "    roc_auc[i] = auc(fpr[i], tpr[i])\n",
    "# Σχεδίαση ROC\n",
    "plt.figure(figsize=(8, 6))\n",
    "for i in range(n_classes):\n",
    "    plt.plot(fpr[i], tpr[i], lw=2, label='ROC curve (class {}) (area = {:0.2f})'.format(take_sentiment(i), roc_auc[i]))\n",
    "\n",
    "plt.plot([0, 1], [0, 1], color='navy', lw=2, linestyle='--')\n",
    "plt.xlabel('False Positive Ratings')\n",
    "plt.ylabel('True Positive Ratings')\n",
    "plt.title('ROC CURVE')\n",
    "plt.legend(loc=\"lower right\")\n",
    "plt.show()\n"
   ]
  },
  {
   "cell_type": "code",
   "execution_count": null,
   "id": "a80544f8",
   "metadata": {
    "execution": {
     "iopub.status.busy": "2023-11-23T20:07:12.765559Z",
     "iopub.status.idle": "2023-11-23T20:07:12.766051Z",
     "shell.execute_reply": "2023-11-23T20:07:12.765855Z",
     "shell.execute_reply.started": "2023-11-23T20:07:12.765834Z"
    },
    "papermill": {
     "duration": 0.015876,
     "end_time": "2023-11-23T20:11:57.015574",
     "exception": false,
     "start_time": "2023-11-23T20:11:56.999698",
     "status": "completed"
    },
    "tags": []
   },
   "outputs": [],
   "source": []
  },
  {
   "cell_type": "markdown",
   "id": "3789fa65",
   "metadata": {
    "id": "kTF0a7XtTFM8",
    "papermill": {
     "duration": 0.015667,
     "end_time": "2023-11-23T20:11:57.047576",
     "exception": false,
     "start_time": "2023-11-23T20:11:57.031909",
     "status": "completed"
    },
    "tags": []
   },
   "source": [
    "**CONFUSION MATRIX**"
   ]
  },
  {
   "cell_type": "code",
   "execution_count": 14,
   "id": "b0ce0a89",
   "metadata": {
    "execution": {
     "iopub.execute_input": "2023-11-23T20:11:57.081142Z",
     "iopub.status.busy": "2023-11-23T20:11:57.080787Z",
     "iopub.status.idle": "2023-11-23T20:12:02.482843Z",
     "shell.execute_reply": "2023-11-23T20:12:02.482147Z"
    },
    "id": "_cOM2IXRKSr8",
    "papermill": {
     "duration": 5.421488,
     "end_time": "2023-11-23T20:12:02.484854",
     "exception": false,
     "start_time": "2023-11-23T20:11:57.063366",
     "status": "completed"
    },
    "tags": []
   },
   "outputs": [
    {
     "data": {
      "image/png": "[encoded data removed]",
      "text/plain": [
       "<Figure size 640x480 with 2 Axes>"
      ]
     },
     "metadata": {},
     "output_type": "display_data"
    }
   ],
   "source": [
    "import seaborn as sns\n",
    "def confusion_matrix_model(model):\n",
    "    y_pred = model.predict(X_validation_count)\n",
    "\n",
    "    # Compute and plot the Confusion matrix\n",
    "    cf_matrix = confusion_matrix(y_validation, y_pred)\n",
    "\n",
    "    # Negative, Neutral and Positive Categories\n",
    "    categories = ['Negative', 'Neutral', 'Positive']\n",
    "    group_names = ['True Neg', 'False Neutral', 'False Pos',\n",
    "                   'False Neg', 'True Neutral', 'True Pos']  # ορίζουμε τις ονομασίες ομάδων\n",
    "    group_percentages = ['{0:.2%}'.format(value) for value in cf_matrix.flatten() / np.sum(cf_matrix)]\n",
    "    labels = [f'{v1}\\n{v2}' for v1, v2 in zip(group_names, group_percentages)]\n",
    "    labels = np.asarray(labels).reshape(2, 3)\n",
    "\n",
    "    sns.heatmap(cf_matrix, annot=True, cmap='Blues', fmt='', annot_kws={\"size\": 12},\n",
    "                xticklabels=categories, yticklabels=categories)\n",
    "    plt.xlabel(\"Predicted values\", fontdict={'size': 14}, labelpad=10)\n",
    "    plt.ylabel(\"Actual values\", fontdict={'size': 14}, labelpad=10)\n",
    "    plt.title(\"Confusion Matrix\", fontdict={'size': 18}, pad=20)\n",
    "    plt.show()\n",
    "\n",
    "log_model = LogisticRegression(max_iter = 2000)\n",
    "log_model.fit(X_train_count, y_train)\n",
    "confusion_matrix_model(log_model)\n",
    "y_validation_pred = log_model.predict(X_validation_count)"
   ]
  }
 ],
 "metadata": {
  "colab": {
   "provenance": []
  },
  "kaggle": {
   "accelerator": "none",
   "dataSources": [
    {
     "databundleVersionId": 6886092,
     "sourceId": 62857,
     "sourceType": "competition"
    }
   ],
   "dockerImageVersionId": 30558,
   "isGpuEnabled": false,
   "isInternetEnabled": true,
   "language": "python",
   "sourceType": "notebook"
  },
  "kernelspec": {
   "display_name": "Python 3",
   "language": "python",
   "name": "python3"
  },
  "language_info": {
   "codemirror_mode": {
    "name": "ipython",
    "version": 3
   },
   "file_extension": ".py",
   "mimetype": "text/x-python",
   "name": "python",
   "nbconvert_exporter": "python",
   "pygments_lexer": "ipython3",
   "version": "3.10.12"
  },
  "papermill": {
   "default_parameters": {},
   "duration": 248.288491,
   "end_time": "2023-11-23T20:12:05.122530",
   "environment_variables": {},
   "exception": null,
   "input_path": "__notebook__.ipynb",
   "output_path": "__notebook__.ipynb",
   "parameters": {},
   "start_time": "2023-11-23T20:07:56.834039",
   "version": "2.4.0"
  }
 },
 "nbformat": 4,
 "nbformat_minor": 5
}
